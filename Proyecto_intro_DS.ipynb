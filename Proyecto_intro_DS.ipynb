{
  "nbformat": 4,
  "nbformat_minor": 0,
  "metadata": {
    "colab": {
      "name": "Proyecto_intro_DS.ipynb",
      "provenance": [],
      "collapsed_sections": []
    },
    "kernelspec": {
      "name": "python3",
      "display_name": "Python 3"
    },
    "language_info": {
      "name": "python"
    }
  },
  "cells": [
    {
      "cell_type": "markdown",
      "metadata": {
        "id": "vXEEhjICTJi1"
      },
      "source": [
        "## Exploratory and Data Analysis "
      ]
    },
    {
      "cell_type": "code",
      "metadata": {
        "id": "C2QxCpTw1L_c"
      },
      "source": [
        "ci"
      ],
      "execution_count": null,
      "outputs": []
    },
    {
      "cell_type": "markdown",
      "metadata": {
        "id": "Q4rxD4h1TRkY"
      },
      "source": [
        "Primero exportaremosmos las bases a ocupar. Para ello tenemos 5 bases con extensión csv. Las bases a utilizar son las siguientes: \n",
        "\n",
        "- 2016.csv\n",
        "- 2017.csv\n",
        "- 2018.csv\n",
        "- 2019.csv\n",
        "- 2020.csv"
      ]
    },
    {
      "cell_type": "code",
      "metadata": {
        "colab": {
          "base_uri": "https://localhost:8080/",
          "height": 257
        },
        "id": "xVEQ3heCCwVa",
        "outputId": "8b87ac55-af75-4208-f624-17c7ff9aed15"
      },
      "source": [
        "import pandas as pd\n",
        "\n",
        "df_2016 = pd.read_csv('2016.csv')\n",
        "df_2017 = pd.read_csv('2017.csv')\n",
        "df_2018 = pd.read_csv('2018.csv')\n",
        "df_2019 = pd.read_csv('2019.csv')\n",
        "df_2020 = pd.read_csv('2020.csv')\n",
        "\n",
        "df_2016.head(3)"
      ],
      "execution_count": null,
      "outputs": [
        {
          "output_type": "execute_result",
          "data": {
            "text/html": [
              "<div>\n",
              "<style scoped>\n",
              "    .dataframe tbody tr th:only-of-type {\n",
              "        vertical-align: middle;\n",
              "    }\n",
              "\n",
              "    .dataframe tbody tr th {\n",
              "        vertical-align: top;\n",
              "    }\n",
              "\n",
              "    .dataframe thead th {\n",
              "        text-align: right;\n",
              "    }\n",
              "</style>\n",
              "<table border=\"1\" class=\"dataframe\">\n",
              "  <thead>\n",
              "    <tr style=\"text-align: right;\">\n",
              "      <th></th>\n",
              "      <th>Country</th>\n",
              "      <th>Region</th>\n",
              "      <th>Happiness Rank</th>\n",
              "      <th>Happiness Score</th>\n",
              "      <th>Lower Confidence Interval</th>\n",
              "      <th>Upper Confidence Interval</th>\n",
              "      <th>Economy (GDP per Capita)</th>\n",
              "      <th>Family</th>\n",
              "      <th>Health (Life Expectancy)</th>\n",
              "      <th>Freedom</th>\n",
              "      <th>Trust (Government Corruption)</th>\n",
              "      <th>Generosity</th>\n",
              "      <th>Dystopia Residual</th>\n",
              "    </tr>\n",
              "  </thead>\n",
              "  <tbody>\n",
              "    <tr>\n",
              "      <th>0</th>\n",
              "      <td>Denmark</td>\n",
              "      <td>Western Europe</td>\n",
              "      <td>1</td>\n",
              "      <td>7.526</td>\n",
              "      <td>7.460</td>\n",
              "      <td>7.592</td>\n",
              "      <td>1.44178</td>\n",
              "      <td>1.16374</td>\n",
              "      <td>0.79504</td>\n",
              "      <td>0.57941</td>\n",
              "      <td>0.44453</td>\n",
              "      <td>0.36171</td>\n",
              "      <td>2.73939</td>\n",
              "    </tr>\n",
              "    <tr>\n",
              "      <th>1</th>\n",
              "      <td>Switzerland</td>\n",
              "      <td>Western Europe</td>\n",
              "      <td>2</td>\n",
              "      <td>7.509</td>\n",
              "      <td>7.428</td>\n",
              "      <td>7.590</td>\n",
              "      <td>1.52733</td>\n",
              "      <td>1.14524</td>\n",
              "      <td>0.86303</td>\n",
              "      <td>0.58557</td>\n",
              "      <td>0.41203</td>\n",
              "      <td>0.28083</td>\n",
              "      <td>2.69463</td>\n",
              "    </tr>\n",
              "    <tr>\n",
              "      <th>2</th>\n",
              "      <td>Iceland</td>\n",
              "      <td>Western Europe</td>\n",
              "      <td>3</td>\n",
              "      <td>7.501</td>\n",
              "      <td>7.333</td>\n",
              "      <td>7.669</td>\n",
              "      <td>1.42666</td>\n",
              "      <td>1.18326</td>\n",
              "      <td>0.86733</td>\n",
              "      <td>0.56624</td>\n",
              "      <td>0.14975</td>\n",
              "      <td>0.47678</td>\n",
              "      <td>2.83137</td>\n",
              "    </tr>\n",
              "  </tbody>\n",
              "</table>\n",
              "</div>"
            ],
            "text/plain": [
              "       Country          Region  ...  Generosity  Dystopia Residual\n",
              "0      Denmark  Western Europe  ...     0.36171            2.73939\n",
              "1  Switzerland  Western Europe  ...     0.28083            2.69463\n",
              "2      Iceland  Western Europe  ...     0.47678            2.83137\n",
              "\n",
              "[3 rows x 13 columns]"
            ]
          },
          "metadata": {
            "tags": []
          },
          "execution_count": 1
        }
      ]
    },
    {
      "cell_type": "code",
      "metadata": {
        "colab": {
          "base_uri": "https://localhost:8080/",
          "height": 244
        },
        "id": "I04vbWdhPcNS",
        "outputId": "403682fd-996f-457c-c537-213496211b62"
      },
      "source": [
        "df_2020.head(2)"
      ],
      "execution_count": null,
      "outputs": [
        {
          "output_type": "execute_result",
          "data": {
            "text/html": [
              "<div>\n",
              "<style scoped>\n",
              "    .dataframe tbody tr th:only-of-type {\n",
              "        vertical-align: middle;\n",
              "    }\n",
              "\n",
              "    .dataframe tbody tr th {\n",
              "        vertical-align: top;\n",
              "    }\n",
              "\n",
              "    .dataframe thead th {\n",
              "        text-align: right;\n",
              "    }\n",
              "</style>\n",
              "<table border=\"1\" class=\"dataframe\">\n",
              "  <thead>\n",
              "    <tr style=\"text-align: right;\">\n",
              "      <th></th>\n",
              "      <th>Country name</th>\n",
              "      <th>Regional indicator</th>\n",
              "      <th>Ladder score</th>\n",
              "      <th>Standard error of ladder score</th>\n",
              "      <th>upperwhisker</th>\n",
              "      <th>lowerwhisker</th>\n",
              "      <th>Logged GDP per capita</th>\n",
              "      <th>Social support</th>\n",
              "      <th>Healthy life expectancy</th>\n",
              "      <th>Freedom to make life choices</th>\n",
              "      <th>Generosity</th>\n",
              "      <th>Perceptions of corruption</th>\n",
              "      <th>Ladder score in Dystopia</th>\n",
              "      <th>Explained by: Log GDP per capita</th>\n",
              "      <th>Explained by: Social support</th>\n",
              "      <th>Explained by: Healthy life expectancy</th>\n",
              "      <th>Explained by: Freedom to make life choices</th>\n",
              "      <th>Explained by: Generosity</th>\n",
              "      <th>Explained by: Perceptions of corruption</th>\n",
              "      <th>Dystopia + residual</th>\n",
              "    </tr>\n",
              "  </thead>\n",
              "  <tbody>\n",
              "    <tr>\n",
              "      <th>0</th>\n",
              "      <td>Finland</td>\n",
              "      <td>Western Europe</td>\n",
              "      <td>7.8087</td>\n",
              "      <td>0.031156</td>\n",
              "      <td>7.869766</td>\n",
              "      <td>7.747634</td>\n",
              "      <td>10.639267</td>\n",
              "      <td>0.954330</td>\n",
              "      <td>71.900825</td>\n",
              "      <td>0.949172</td>\n",
              "      <td>-0.059482</td>\n",
              "      <td>0.195445</td>\n",
              "      <td>1.972317</td>\n",
              "      <td>1.285190</td>\n",
              "      <td>1.499526</td>\n",
              "      <td>0.961271</td>\n",
              "      <td>0.662317</td>\n",
              "      <td>0.159670</td>\n",
              "      <td>0.477857</td>\n",
              "      <td>2.762835</td>\n",
              "    </tr>\n",
              "    <tr>\n",
              "      <th>1</th>\n",
              "      <td>Denmark</td>\n",
              "      <td>Western Europe</td>\n",
              "      <td>7.6456</td>\n",
              "      <td>0.033492</td>\n",
              "      <td>7.711245</td>\n",
              "      <td>7.579955</td>\n",
              "      <td>10.774001</td>\n",
              "      <td>0.955991</td>\n",
              "      <td>72.402504</td>\n",
              "      <td>0.951444</td>\n",
              "      <td>0.066202</td>\n",
              "      <td>0.168489</td>\n",
              "      <td>1.972317</td>\n",
              "      <td>1.326949</td>\n",
              "      <td>1.503449</td>\n",
              "      <td>0.979333</td>\n",
              "      <td>0.665040</td>\n",
              "      <td>0.242793</td>\n",
              "      <td>0.495260</td>\n",
              "      <td>2.432741</td>\n",
              "    </tr>\n",
              "  </tbody>\n",
              "</table>\n",
              "</div>"
            ],
            "text/plain": [
              "  Country name  ... Dystopia + residual\n",
              "0      Finland  ...            2.762835\n",
              "1      Denmark  ...            2.432741\n",
              "\n",
              "[2 rows x 20 columns]"
            ]
          },
          "metadata": {
            "tags": []
          },
          "execution_count": 2
        }
      ]
    },
    {
      "cell_type": "markdown",
      "metadata": {
        "id": "H0lJslbpTr3D"
      },
      "source": [
        "Comparemos el nombre de las columnas para todas las bases para saber si tienen la misma estructura."
      ]
    },
    {
      "cell_type": "code",
      "metadata": {
        "colab": {
          "base_uri": "https://localhost:8080/"
        },
        "id": "aN1RgNdiTtI3",
        "outputId": "c0a3be74-e29e-4359-91c3-174ac82a7de0"
      },
      "source": [
        "df_2016.columns.to_list() == df_2017.columns.to_list()"
      ],
      "execution_count": null,
      "outputs": [
        {
          "output_type": "execute_result",
          "data": {
            "text/plain": [
              "False"
            ]
          },
          "metadata": {
            "tags": []
          },
          "execution_count": 3
        }
      ]
    },
    {
      "cell_type": "markdown",
      "metadata": {
        "id": "NSVnaQRGWOt9"
      },
      "source": [
        "Acabamos de comparar la base 2016 con la 2017 y la igualdad nos da `False` por lo que será necesario buscar porque no son iguales y definir como podemos convalidar todas las bases."
      ]
    },
    {
      "cell_type": "code",
      "metadata": {
        "colab": {
          "base_uri": "https://localhost:8080/"
        },
        "id": "Xck2PR8HVtnH",
        "outputId": "174ce9c2-8e20-4ec6-b1ba-5542e20d94a4"
      },
      "source": [
        "len(df_2016.columns.to_list()) , len(df_2017.columns.to_list()) ,len(df_2018.columns.to_list()) , len(df_2019.columns.to_list()) , len(df_2020.columns.to_list()) "
      ],
      "execution_count": null,
      "outputs": [
        {
          "output_type": "execute_result",
          "data": {
            "text/plain": [
              "(13, 12, 9, 9, 20)"
            ]
          },
          "metadata": {
            "tags": []
          },
          "execution_count": 4
        }
      ]
    },
    {
      "cell_type": "code",
      "metadata": {
        "colab": {
          "base_uri": "https://localhost:8080/"
        },
        "id": "UqRF1UtTWCIp",
        "outputId": "435ecdb6-e56c-45dd-e2d0-2822738a4b9d"
      },
      "source": [
        "df_2018.columns.to_list() == df_2019.columns.to_list()"
      ],
      "execution_count": null,
      "outputs": [
        {
          "output_type": "execute_result",
          "data": {
            "text/plain": [
              "True"
            ]
          },
          "metadata": {
            "tags": []
          },
          "execution_count": 5
        }
      ]
    },
    {
      "cell_type": "markdown",
      "metadata": {
        "id": "Gh1Wp96LYo-7"
      },
      "source": [
        "Las bases de `2018` y `2019` están iguales, por lo tanto, se tomará este formato de base para las demás bases de datos. Partiremos encontrando las diferencias de esta base versus las otras."
      ]
    },
    {
      "cell_type": "code",
      "metadata": {
        "id": "EdVtJ1V4ZQ5c"
      },
      "source": [
        "# Primero pasaremos todas las columnas de las bases a listas y para comparar el vector de columnas importaremos el módulo numpy \n",
        "\n",
        "import numpy as np\n",
        "\n",
        "l_2016 = df_2016.columns.to_list()\n",
        "l_2017 = df_2017.columns.to_list()\n",
        "l_2018 = df_2018.columns.to_list()\n",
        "l_2019 = df_2019.columns.to_list()\n",
        "l_2020 = df_2020.columns.to_list()\n"
      ],
      "execution_count": null,
      "outputs": []
    },
    {
      "cell_type": "code",
      "metadata": {
        "id": "IzO9TRMRilO2"
      },
      "source": [
        "# Segundo haremos un for una función para saber si los elementos de los nombres de las columnas en el 2018 o 2019 están en los otros datasets\n",
        "\n",
        "def val_listas( i , j ):\n",
        "  lista = []\n",
        "  for a in l_2018:\n",
        "    if a in i:\n",
        "      lista.append('True')\n",
        "    else: \n",
        "      lista.append('False')\n",
        "  print('Lista 2018 compara con {0}'.format(j),lista)\n"
      ],
      "execution_count": null,
      "outputs": []
    },
    {
      "cell_type": "code",
      "metadata": {
        "colab": {
          "base_uri": "https://localhost:8080/"
        },
        "id": "0j6tosvMk_6N",
        "outputId": "a60ab87c-fe58-4981-84d0-ea797b22ba3f"
      },
      "source": [
        "bases = [ l_2016 , l_2017 , l_2020]\n",
        "años = ['2016', '2017' , '2020']\n",
        "for i , j in zip(bases,años):\n",
        "\n",
        "  val_listas(i,j)"
      ],
      "execution_count": null,
      "outputs": [
        {
          "output_type": "stream",
          "text": [
            "Lista 2018 compara con 2016 ['False', 'False', 'False', 'False', 'False', 'False', 'False', 'True', 'False']\n",
            "Lista 2018 compara con 2017 ['False', 'False', 'False', 'False', 'False', 'False', 'False', 'True', 'False']\n",
            "Lista 2018 compara con 2020 ['False', 'False', 'False', 'False', 'True', 'True', 'True', 'True', 'True']\n"
          ],
          "name": "stdout"
        }
      ]
    },
    {
      "cell_type": "markdown",
      "metadata": {
        "id": "dyLVO6HXxyZ6"
      },
      "source": [
        "Partiremos entonces por renombrar las columnas o encontrar si podemos renombrarlas correctamente"
      ]
    },
    {
      "cell_type": "code",
      "metadata": {
        "colab": {
          "base_uri": "https://localhost:8080/",
          "height": 215
        },
        "id": "GybDHGNax5mP",
        "outputId": "4a255ea7-5971-4f00-b9a6-2817b10c90ad"
      },
      "source": [
        "# Limpiando las columnas para el df_2016\n",
        "\n",
        "df_2016.drop([ 'Region' , 'Lower Confidence Interval' , 'Upper Confidence Interval' , 'Dystopia Residual' ], axis=1, inplace=True)\n",
        "print(len(df_2016.columns))\n",
        "df_2016.head()\n"
      ],
      "execution_count": null,
      "outputs": [
        {
          "output_type": "stream",
          "text": [
            "9\n"
          ],
          "name": "stdout"
        },
        {
          "output_type": "execute_result",
          "data": {
            "text/html": [
              "<div>\n",
              "<style scoped>\n",
              "    .dataframe tbody tr th:only-of-type {\n",
              "        vertical-align: middle;\n",
              "    }\n",
              "\n",
              "    .dataframe tbody tr th {\n",
              "        vertical-align: top;\n",
              "    }\n",
              "\n",
              "    .dataframe thead th {\n",
              "        text-align: right;\n",
              "    }\n",
              "</style>\n",
              "<table border=\"1\" class=\"dataframe\">\n",
              "  <thead>\n",
              "    <tr style=\"text-align: right;\">\n",
              "      <th></th>\n",
              "      <th>Country</th>\n",
              "      <th>Happiness Rank</th>\n",
              "      <th>Happiness Score</th>\n",
              "      <th>Economy (GDP per Capita)</th>\n",
              "      <th>Family</th>\n",
              "      <th>Health (Life Expectancy)</th>\n",
              "      <th>Freedom</th>\n",
              "      <th>Trust (Government Corruption)</th>\n",
              "      <th>Generosity</th>\n",
              "    </tr>\n",
              "  </thead>\n",
              "  <tbody>\n",
              "    <tr>\n",
              "      <th>0</th>\n",
              "      <td>Denmark</td>\n",
              "      <td>1</td>\n",
              "      <td>7.526</td>\n",
              "      <td>1.44178</td>\n",
              "      <td>1.16374</td>\n",
              "      <td>0.79504</td>\n",
              "      <td>0.57941</td>\n",
              "      <td>0.44453</td>\n",
              "      <td>0.36171</td>\n",
              "    </tr>\n",
              "    <tr>\n",
              "      <th>1</th>\n",
              "      <td>Switzerland</td>\n",
              "      <td>2</td>\n",
              "      <td>7.509</td>\n",
              "      <td>1.52733</td>\n",
              "      <td>1.14524</td>\n",
              "      <td>0.86303</td>\n",
              "      <td>0.58557</td>\n",
              "      <td>0.41203</td>\n",
              "      <td>0.28083</td>\n",
              "    </tr>\n",
              "    <tr>\n",
              "      <th>2</th>\n",
              "      <td>Iceland</td>\n",
              "      <td>3</td>\n",
              "      <td>7.501</td>\n",
              "      <td>1.42666</td>\n",
              "      <td>1.18326</td>\n",
              "      <td>0.86733</td>\n",
              "      <td>0.56624</td>\n",
              "      <td>0.14975</td>\n",
              "      <td>0.47678</td>\n",
              "    </tr>\n",
              "    <tr>\n",
              "      <th>3</th>\n",
              "      <td>Norway</td>\n",
              "      <td>4</td>\n",
              "      <td>7.498</td>\n",
              "      <td>1.57744</td>\n",
              "      <td>1.12690</td>\n",
              "      <td>0.79579</td>\n",
              "      <td>0.59609</td>\n",
              "      <td>0.35776</td>\n",
              "      <td>0.37895</td>\n",
              "    </tr>\n",
              "    <tr>\n",
              "      <th>4</th>\n",
              "      <td>Finland</td>\n",
              "      <td>5</td>\n",
              "      <td>7.413</td>\n",
              "      <td>1.40598</td>\n",
              "      <td>1.13464</td>\n",
              "      <td>0.81091</td>\n",
              "      <td>0.57104</td>\n",
              "      <td>0.41004</td>\n",
              "      <td>0.25492</td>\n",
              "    </tr>\n",
              "  </tbody>\n",
              "</table>\n",
              "</div>"
            ],
            "text/plain": [
              "       Country  Happiness Rank  ...  Trust (Government Corruption)  Generosity\n",
              "0      Denmark               1  ...                        0.44453     0.36171\n",
              "1  Switzerland               2  ...                        0.41203     0.28083\n",
              "2      Iceland               3  ...                        0.14975     0.47678\n",
              "3       Norway               4  ...                        0.35776     0.37895\n",
              "4      Finland               5  ...                        0.41004     0.25492\n",
              "\n",
              "[5 rows x 9 columns]"
            ]
          },
          "metadata": {
            "tags": []
          },
          "execution_count": 9
        }
      ]
    },
    {
      "cell_type": "code",
      "metadata": {
        "colab": {
          "base_uri": "https://localhost:8080/"
        },
        "id": "YJmAHdgi3S2m",
        "outputId": "7be71bc4-18b7-4c60-8c5f-a210c7458e17"
      },
      "source": [
        "# Limpiando las columnas para el df_2017\n",
        "\n",
        "df_2017.drop([  'Whisker.high' , 'Whisker.low' , 'Dystopia.Residual' ], axis=1, inplace=True)\n",
        "len(df_2017.columns)"
      ],
      "execution_count": null,
      "outputs": [
        {
          "output_type": "execute_result",
          "data": {
            "text/plain": [
              "9"
            ]
          },
          "metadata": {
            "tags": []
          },
          "execution_count": 10
        }
      ]
    },
    {
      "cell_type": "code",
      "metadata": {
        "colab": {
          "base_uri": "https://localhost:8080/",
          "height": 94
        },
        "id": "hRDDqpNByG6O",
        "outputId": "167cc1f1-c8bf-4a3e-e23d-ec4a245df776"
      },
      "source": [
        "# Limpiando las columnas para el df_2020\n",
        "\n",
        "df_2020.drop([ 'Social support','Perceptions of corruption','Freedom to make life choices','Generosity','Healthy life expectancy','Logged GDP per capita','Regional indicator' , 'Standard error of ladder score' , 'upperwhisker' , 'lowerwhisker' , 'Ladder score in Dystopia','Dystopia + residual'], axis=1, inplace=True)\n",
        "df_2020.head(1)"
      ],
      "execution_count": null,
      "outputs": [
        {
          "output_type": "execute_result",
          "data": {
            "text/html": [
              "<div>\n",
              "<style scoped>\n",
              "    .dataframe tbody tr th:only-of-type {\n",
              "        vertical-align: middle;\n",
              "    }\n",
              "\n",
              "    .dataframe tbody tr th {\n",
              "        vertical-align: top;\n",
              "    }\n",
              "\n",
              "    .dataframe thead th {\n",
              "        text-align: right;\n",
              "    }\n",
              "</style>\n",
              "<table border=\"1\" class=\"dataframe\">\n",
              "  <thead>\n",
              "    <tr style=\"text-align: right;\">\n",
              "      <th></th>\n",
              "      <th>Country name</th>\n",
              "      <th>Ladder score</th>\n",
              "      <th>Explained by: Log GDP per capita</th>\n",
              "      <th>Explained by: Social support</th>\n",
              "      <th>Explained by: Healthy life expectancy</th>\n",
              "      <th>Explained by: Freedom to make life choices</th>\n",
              "      <th>Explained by: Generosity</th>\n",
              "      <th>Explained by: Perceptions of corruption</th>\n",
              "    </tr>\n",
              "  </thead>\n",
              "  <tbody>\n",
              "    <tr>\n",
              "      <th>0</th>\n",
              "      <td>Finland</td>\n",
              "      <td>7.8087</td>\n",
              "      <td>1.28519</td>\n",
              "      <td>1.499526</td>\n",
              "      <td>0.961271</td>\n",
              "      <td>0.662317</td>\n",
              "      <td>0.15967</td>\n",
              "      <td>0.477857</td>\n",
              "    </tr>\n",
              "  </tbody>\n",
              "</table>\n",
              "</div>"
            ],
            "text/plain": [
              "  Country name  ...  Explained by: Perceptions of corruption\n",
              "0      Finland  ...                                 0.477857\n",
              "\n",
              "[1 rows x 8 columns]"
            ]
          },
          "metadata": {
            "tags": []
          },
          "execution_count": 11
        }
      ]
    },
    {
      "cell_type": "code",
      "metadata": {
        "id": "ONBf7ggI8eZ7",
        "colab": {
          "base_uri": "https://localhost:8080/",
          "height": 112
        },
        "outputId": "8714de4e-f5f4-4f09-dff4-a7ab3e304344"
      },
      "source": [
        "print(len(df_2020.columns))\n",
        "df_2020.head(1)"
      ],
      "execution_count": null,
      "outputs": [
        {
          "output_type": "stream",
          "text": [
            "8\n"
          ],
          "name": "stdout"
        },
        {
          "output_type": "execute_result",
          "data": {
            "text/html": [
              "<div>\n",
              "<style scoped>\n",
              "    .dataframe tbody tr th:only-of-type {\n",
              "        vertical-align: middle;\n",
              "    }\n",
              "\n",
              "    .dataframe tbody tr th {\n",
              "        vertical-align: top;\n",
              "    }\n",
              "\n",
              "    .dataframe thead th {\n",
              "        text-align: right;\n",
              "    }\n",
              "</style>\n",
              "<table border=\"1\" class=\"dataframe\">\n",
              "  <thead>\n",
              "    <tr style=\"text-align: right;\">\n",
              "      <th></th>\n",
              "      <th>Country name</th>\n",
              "      <th>Ladder score</th>\n",
              "      <th>Explained by: Log GDP per capita</th>\n",
              "      <th>Explained by: Social support</th>\n",
              "      <th>Explained by: Healthy life expectancy</th>\n",
              "      <th>Explained by: Freedom to make life choices</th>\n",
              "      <th>Explained by: Generosity</th>\n",
              "      <th>Explained by: Perceptions of corruption</th>\n",
              "    </tr>\n",
              "  </thead>\n",
              "  <tbody>\n",
              "    <tr>\n",
              "      <th>0</th>\n",
              "      <td>Finland</td>\n",
              "      <td>7.8087</td>\n",
              "      <td>1.28519</td>\n",
              "      <td>1.499526</td>\n",
              "      <td>0.961271</td>\n",
              "      <td>0.662317</td>\n",
              "      <td>0.15967</td>\n",
              "      <td>0.477857</td>\n",
              "    </tr>\n",
              "  </tbody>\n",
              "</table>\n",
              "</div>"
            ],
            "text/plain": [
              "  Country name  ...  Explained by: Perceptions of corruption\n",
              "0      Finland  ...                                 0.477857\n",
              "\n",
              "[1 rows x 8 columns]"
            ]
          },
          "metadata": {
            "tags": []
          },
          "execution_count": 12
        }
      ]
    },
    {
      "cell_type": "code",
      "metadata": {
        "id": "-rB5uqdOIS5c",
        "colab": {
          "base_uri": "https://localhost:8080/",
          "height": 77
        },
        "outputId": "ae66de23-f943-41f3-c85c-b5fdf8bd2d29"
      },
      "source": [
        "df_2018.head(1)"
      ],
      "execution_count": null,
      "outputs": [
        {
          "output_type": "execute_result",
          "data": {
            "text/html": [
              "<div>\n",
              "<style scoped>\n",
              "    .dataframe tbody tr th:only-of-type {\n",
              "        vertical-align: middle;\n",
              "    }\n",
              "\n",
              "    .dataframe tbody tr th {\n",
              "        vertical-align: top;\n",
              "    }\n",
              "\n",
              "    .dataframe thead th {\n",
              "        text-align: right;\n",
              "    }\n",
              "</style>\n",
              "<table border=\"1\" class=\"dataframe\">\n",
              "  <thead>\n",
              "    <tr style=\"text-align: right;\">\n",
              "      <th></th>\n",
              "      <th>Overall rank</th>\n",
              "      <th>Country or region</th>\n",
              "      <th>Score</th>\n",
              "      <th>GDP per capita</th>\n",
              "      <th>Social support</th>\n",
              "      <th>Healthy life expectancy</th>\n",
              "      <th>Freedom to make life choices</th>\n",
              "      <th>Generosity</th>\n",
              "      <th>Perceptions of corruption</th>\n",
              "    </tr>\n",
              "  </thead>\n",
              "  <tbody>\n",
              "    <tr>\n",
              "      <th>0</th>\n",
              "      <td>1</td>\n",
              "      <td>Finland</td>\n",
              "      <td>7.632</td>\n",
              "      <td>1.305</td>\n",
              "      <td>1.592</td>\n",
              "      <td>0.874</td>\n",
              "      <td>0.681</td>\n",
              "      <td>0.202</td>\n",
              "      <td>0.393</td>\n",
              "    </tr>\n",
              "  </tbody>\n",
              "</table>\n",
              "</div>"
            ],
            "text/plain": [
              "   Overall rank Country or region  ...  Generosity  Perceptions of corruption\n",
              "0             1           Finland  ...       0.202                      0.393\n",
              "\n",
              "[1 rows x 9 columns]"
            ]
          },
          "metadata": {
            "tags": []
          },
          "execution_count": 13
        }
      ]
    },
    {
      "cell_type": "code",
      "metadata": {
        "id": "ENxrlVdaOJZF"
      },
      "source": [
        "df_2016.drop(['Happiness Rank'], axis=1, inplace=True)\n",
        "df_2017.drop(['Happiness.Rank'], axis=1, inplace=True)\n",
        "df_2018.drop(['Overall rank'], axis=1, inplace=True)\n",
        "df_2019.drop(['Overall rank'], axis=1, inplace=True)\n"
      ],
      "execution_count": null,
      "outputs": []
    },
    {
      "cell_type": "code",
      "metadata": {
        "colab": {
          "base_uri": "https://localhost:8080/"
        },
        "id": "2ZqorZY7QkDD",
        "outputId": "e43874ac-541f-4628-def3-526e9c7ee040"
      },
      "source": [
        "print(len(df_2016.columns))\n",
        "print(len(df_2017.columns))\n",
        "print(len(df_2018.columns))\n",
        "print(len(df_2019.columns))\n",
        "print(len(df_2020.columns))"
      ],
      "execution_count": null,
      "outputs": [
        {
          "output_type": "stream",
          "text": [
            "8\n",
            "8\n",
            "8\n",
            "8\n",
            "8\n"
          ],
          "name": "stdout"
        }
      ]
    },
    {
      "cell_type": "code",
      "metadata": {
        "id": "y03KQm7kQw2Q"
      },
      "source": [
        "# Renombremos las columnas ahora antes de hacer el join\n",
        "\n",
        "# Base 2016\n",
        "df_2016.rename(columns={'Happiness Score': 'Score', 'Economy (GDP per Capita)': 'GDP' , 'Health (Life Expectancy)': 'Life Expectancy' , 'Trust (Government Corruption)':'Trust (Corruption)' }, inplace=True)\n",
        "\n",
        "# Base 2017\n",
        "df_2017.rename(columns={'Happiness.Score': 'Score', 'Economy..GDP.per.Capita.': 'GDP' , 'Health..Life.Expectancy.': 'Life Expectancy' , 'Trust..Government.Corruption.':'Trust (Corruption)' }, inplace=True)\n",
        "\n",
        "# Base 2018\n",
        "\n",
        "df_2018.rename(columns={'Country or region': 'Country', 'GDP per capita': 'GDP' , 'Social support':'Family' , 'Freedom to make life choices':'Freedom' ,'Healthy life expectancy': 'Life Expectancy' , 'Perceptions of corruption':'Trust (Corruption)' }, inplace=True)\n",
        "\n",
        "# Base 2019 \n",
        "\n",
        "df_2019.rename(columns={'Country or region': 'Country', 'GDP per capita': 'GDP' , 'Social support':'Family' , 'Freedom to make life choices':'Freedom' ,'Healthy life expectancy': 'Life Expectancy' , 'Perceptions of corruption':'Trust (Corruption)' }, inplace=True)\n",
        "\n",
        "# Base 2020\n",
        "\n",
        "df_2020.rename(columns={'Country name': 'Country', 'Ladder Score': 'Score' ,'Explained by: Log GDP per capita': 'GDP' , 'Explained by: Social support': 'Family', 'Explained by: Healthy life expectancy':'Life Expectancy' ,'Explained by: Freedom to make life choices': 'Freedom' , 'Perceptions of corruption':'Trust (Corruption)','Explained by: Generosity':'Generosity','Explained by: Perceptions of corruption':'Trust (Corruption)','Ladder score':'Score'}, inplace=True)\n"
      ],
      "execution_count": null,
      "outputs": []
    },
    {
      "cell_type": "code",
      "metadata": {
        "colab": {
          "base_uri": "https://localhost:8080/",
          "height": 406
        },
        "id": "ac-wEJJhSC94",
        "outputId": "5d64aacb-0021-4758-d687-64c897fa6915"
      },
      "source": [
        "df_2016"
      ],
      "execution_count": null,
      "outputs": [
        {
          "output_type": "execute_result",
          "data": {
            "text/html": [
              "<div>\n",
              "<style scoped>\n",
              "    .dataframe tbody tr th:only-of-type {\n",
              "        vertical-align: middle;\n",
              "    }\n",
              "\n",
              "    .dataframe tbody tr th {\n",
              "        vertical-align: top;\n",
              "    }\n",
              "\n",
              "    .dataframe thead th {\n",
              "        text-align: right;\n",
              "    }\n",
              "</style>\n",
              "<table border=\"1\" class=\"dataframe\">\n",
              "  <thead>\n",
              "    <tr style=\"text-align: right;\">\n",
              "      <th></th>\n",
              "      <th>Country</th>\n",
              "      <th>Score</th>\n",
              "      <th>GDP</th>\n",
              "      <th>Family</th>\n",
              "      <th>Life Expectancy</th>\n",
              "      <th>Freedom</th>\n",
              "      <th>Trust (Corruption)</th>\n",
              "      <th>Generosity</th>\n",
              "    </tr>\n",
              "  </thead>\n",
              "  <tbody>\n",
              "    <tr>\n",
              "      <th>0</th>\n",
              "      <td>Denmark</td>\n",
              "      <td>7.526</td>\n",
              "      <td>1.44178</td>\n",
              "      <td>1.16374</td>\n",
              "      <td>0.79504</td>\n",
              "      <td>0.57941</td>\n",
              "      <td>0.44453</td>\n",
              "      <td>0.36171</td>\n",
              "    </tr>\n",
              "    <tr>\n",
              "      <th>1</th>\n",
              "      <td>Switzerland</td>\n",
              "      <td>7.509</td>\n",
              "      <td>1.52733</td>\n",
              "      <td>1.14524</td>\n",
              "      <td>0.86303</td>\n",
              "      <td>0.58557</td>\n",
              "      <td>0.41203</td>\n",
              "      <td>0.28083</td>\n",
              "    </tr>\n",
              "    <tr>\n",
              "      <th>2</th>\n",
              "      <td>Iceland</td>\n",
              "      <td>7.501</td>\n",
              "      <td>1.42666</td>\n",
              "      <td>1.18326</td>\n",
              "      <td>0.86733</td>\n",
              "      <td>0.56624</td>\n",
              "      <td>0.14975</td>\n",
              "      <td>0.47678</td>\n",
              "    </tr>\n",
              "    <tr>\n",
              "      <th>3</th>\n",
              "      <td>Norway</td>\n",
              "      <td>7.498</td>\n",
              "      <td>1.57744</td>\n",
              "      <td>1.12690</td>\n",
              "      <td>0.79579</td>\n",
              "      <td>0.59609</td>\n",
              "      <td>0.35776</td>\n",
              "      <td>0.37895</td>\n",
              "    </tr>\n",
              "    <tr>\n",
              "      <th>4</th>\n",
              "      <td>Finland</td>\n",
              "      <td>7.413</td>\n",
              "      <td>1.40598</td>\n",
              "      <td>1.13464</td>\n",
              "      <td>0.81091</td>\n",
              "      <td>0.57104</td>\n",
              "      <td>0.41004</td>\n",
              "      <td>0.25492</td>\n",
              "    </tr>\n",
              "    <tr>\n",
              "      <th>...</th>\n",
              "      <td>...</td>\n",
              "      <td>...</td>\n",
              "      <td>...</td>\n",
              "      <td>...</td>\n",
              "      <td>...</td>\n",
              "      <td>...</td>\n",
              "      <td>...</td>\n",
              "      <td>...</td>\n",
              "    </tr>\n",
              "    <tr>\n",
              "      <th>152</th>\n",
              "      <td>Benin</td>\n",
              "      <td>3.484</td>\n",
              "      <td>0.39499</td>\n",
              "      <td>0.10419</td>\n",
              "      <td>0.21028</td>\n",
              "      <td>0.39747</td>\n",
              "      <td>0.06681</td>\n",
              "      <td>0.20180</td>\n",
              "    </tr>\n",
              "    <tr>\n",
              "      <th>153</th>\n",
              "      <td>Afghanistan</td>\n",
              "      <td>3.360</td>\n",
              "      <td>0.38227</td>\n",
              "      <td>0.11037</td>\n",
              "      <td>0.17344</td>\n",
              "      <td>0.16430</td>\n",
              "      <td>0.07112</td>\n",
              "      <td>0.31268</td>\n",
              "    </tr>\n",
              "    <tr>\n",
              "      <th>154</th>\n",
              "      <td>Togo</td>\n",
              "      <td>3.303</td>\n",
              "      <td>0.28123</td>\n",
              "      <td>0.00000</td>\n",
              "      <td>0.24811</td>\n",
              "      <td>0.34678</td>\n",
              "      <td>0.11587</td>\n",
              "      <td>0.17517</td>\n",
              "    </tr>\n",
              "    <tr>\n",
              "      <th>155</th>\n",
              "      <td>Syria</td>\n",
              "      <td>3.069</td>\n",
              "      <td>0.74719</td>\n",
              "      <td>0.14866</td>\n",
              "      <td>0.62994</td>\n",
              "      <td>0.06912</td>\n",
              "      <td>0.17233</td>\n",
              "      <td>0.48397</td>\n",
              "    </tr>\n",
              "    <tr>\n",
              "      <th>156</th>\n",
              "      <td>Burundi</td>\n",
              "      <td>2.905</td>\n",
              "      <td>0.06831</td>\n",
              "      <td>0.23442</td>\n",
              "      <td>0.15747</td>\n",
              "      <td>0.04320</td>\n",
              "      <td>0.09419</td>\n",
              "      <td>0.20290</td>\n",
              "    </tr>\n",
              "  </tbody>\n",
              "</table>\n",
              "<p>157 rows × 8 columns</p>\n",
              "</div>"
            ],
            "text/plain": [
              "         Country  Score      GDP  ...  Freedom  Trust (Corruption)  Generosity\n",
              "0        Denmark  7.526  1.44178  ...  0.57941             0.44453     0.36171\n",
              "1    Switzerland  7.509  1.52733  ...  0.58557             0.41203     0.28083\n",
              "2        Iceland  7.501  1.42666  ...  0.56624             0.14975     0.47678\n",
              "3         Norway  7.498  1.57744  ...  0.59609             0.35776     0.37895\n",
              "4        Finland  7.413  1.40598  ...  0.57104             0.41004     0.25492\n",
              "..           ...    ...      ...  ...      ...                 ...         ...\n",
              "152        Benin  3.484  0.39499  ...  0.39747             0.06681     0.20180\n",
              "153  Afghanistan  3.360  0.38227  ...  0.16430             0.07112     0.31268\n",
              "154         Togo  3.303  0.28123  ...  0.34678             0.11587     0.17517\n",
              "155        Syria  3.069  0.74719  ...  0.06912             0.17233     0.48397\n",
              "156      Burundi  2.905  0.06831  ...  0.04320             0.09419     0.20290\n",
              "\n",
              "[157 rows x 8 columns]"
            ]
          },
          "metadata": {
            "tags": []
          },
          "execution_count": 17
        }
      ]
    },
    {
      "cell_type": "code",
      "metadata": {
        "colab": {
          "base_uri": "https://localhost:8080/",
          "height": 406
        },
        "id": "YSJ2BTuRTMtV",
        "outputId": "f7888d76-b5b4-4108-ee90-9a354b008b35"
      },
      "source": [
        "df_2017"
      ],
      "execution_count": null,
      "outputs": [
        {
          "output_type": "execute_result",
          "data": {
            "text/html": [
              "<div>\n",
              "<style scoped>\n",
              "    .dataframe tbody tr th:only-of-type {\n",
              "        vertical-align: middle;\n",
              "    }\n",
              "\n",
              "    .dataframe tbody tr th {\n",
              "        vertical-align: top;\n",
              "    }\n",
              "\n",
              "    .dataframe thead th {\n",
              "        text-align: right;\n",
              "    }\n",
              "</style>\n",
              "<table border=\"1\" class=\"dataframe\">\n",
              "  <thead>\n",
              "    <tr style=\"text-align: right;\">\n",
              "      <th></th>\n",
              "      <th>Country</th>\n",
              "      <th>Score</th>\n",
              "      <th>GDP</th>\n",
              "      <th>Family</th>\n",
              "      <th>Life Expectancy</th>\n",
              "      <th>Freedom</th>\n",
              "      <th>Generosity</th>\n",
              "      <th>Trust (Corruption)</th>\n",
              "    </tr>\n",
              "  </thead>\n",
              "  <tbody>\n",
              "    <tr>\n",
              "      <th>0</th>\n",
              "      <td>Norway</td>\n",
              "      <td>7.537</td>\n",
              "      <td>1.616463</td>\n",
              "      <td>1.533524</td>\n",
              "      <td>0.796667</td>\n",
              "      <td>0.635423</td>\n",
              "      <td>0.362012</td>\n",
              "      <td>0.315964</td>\n",
              "    </tr>\n",
              "    <tr>\n",
              "      <th>1</th>\n",
              "      <td>Denmark</td>\n",
              "      <td>7.522</td>\n",
              "      <td>1.482383</td>\n",
              "      <td>1.551122</td>\n",
              "      <td>0.792566</td>\n",
              "      <td>0.626007</td>\n",
              "      <td>0.355280</td>\n",
              "      <td>0.400770</td>\n",
              "    </tr>\n",
              "    <tr>\n",
              "      <th>2</th>\n",
              "      <td>Iceland</td>\n",
              "      <td>7.504</td>\n",
              "      <td>1.480633</td>\n",
              "      <td>1.610574</td>\n",
              "      <td>0.833552</td>\n",
              "      <td>0.627163</td>\n",
              "      <td>0.475540</td>\n",
              "      <td>0.153527</td>\n",
              "    </tr>\n",
              "    <tr>\n",
              "      <th>3</th>\n",
              "      <td>Switzerland</td>\n",
              "      <td>7.494</td>\n",
              "      <td>1.564980</td>\n",
              "      <td>1.516912</td>\n",
              "      <td>0.858131</td>\n",
              "      <td>0.620071</td>\n",
              "      <td>0.290549</td>\n",
              "      <td>0.367007</td>\n",
              "    </tr>\n",
              "    <tr>\n",
              "      <th>4</th>\n",
              "      <td>Finland</td>\n",
              "      <td>7.469</td>\n",
              "      <td>1.443572</td>\n",
              "      <td>1.540247</td>\n",
              "      <td>0.809158</td>\n",
              "      <td>0.617951</td>\n",
              "      <td>0.245483</td>\n",
              "      <td>0.382612</td>\n",
              "    </tr>\n",
              "    <tr>\n",
              "      <th>...</th>\n",
              "      <td>...</td>\n",
              "      <td>...</td>\n",
              "      <td>...</td>\n",
              "      <td>...</td>\n",
              "      <td>...</td>\n",
              "      <td>...</td>\n",
              "      <td>...</td>\n",
              "      <td>...</td>\n",
              "    </tr>\n",
              "    <tr>\n",
              "      <th>150</th>\n",
              "      <td>Rwanda</td>\n",
              "      <td>3.471</td>\n",
              "      <td>0.368746</td>\n",
              "      <td>0.945707</td>\n",
              "      <td>0.326425</td>\n",
              "      <td>0.581844</td>\n",
              "      <td>0.252756</td>\n",
              "      <td>0.455220</td>\n",
              "    </tr>\n",
              "    <tr>\n",
              "      <th>151</th>\n",
              "      <td>Syria</td>\n",
              "      <td>3.462</td>\n",
              "      <td>0.777153</td>\n",
              "      <td>0.396103</td>\n",
              "      <td>0.500533</td>\n",
              "      <td>0.081539</td>\n",
              "      <td>0.493664</td>\n",
              "      <td>0.151347</td>\n",
              "    </tr>\n",
              "    <tr>\n",
              "      <th>152</th>\n",
              "      <td>Tanzania</td>\n",
              "      <td>3.349</td>\n",
              "      <td>0.511136</td>\n",
              "      <td>1.041990</td>\n",
              "      <td>0.364509</td>\n",
              "      <td>0.390018</td>\n",
              "      <td>0.354256</td>\n",
              "      <td>0.066035</td>\n",
              "    </tr>\n",
              "    <tr>\n",
              "      <th>153</th>\n",
              "      <td>Burundi</td>\n",
              "      <td>2.905</td>\n",
              "      <td>0.091623</td>\n",
              "      <td>0.629794</td>\n",
              "      <td>0.151611</td>\n",
              "      <td>0.059901</td>\n",
              "      <td>0.204435</td>\n",
              "      <td>0.084148</td>\n",
              "    </tr>\n",
              "    <tr>\n",
              "      <th>154</th>\n",
              "      <td>Central African Republic</td>\n",
              "      <td>2.693</td>\n",
              "      <td>0.000000</td>\n",
              "      <td>0.000000</td>\n",
              "      <td>0.018773</td>\n",
              "      <td>0.270842</td>\n",
              "      <td>0.280876</td>\n",
              "      <td>0.056565</td>\n",
              "    </tr>\n",
              "  </tbody>\n",
              "</table>\n",
              "<p>155 rows × 8 columns</p>\n",
              "</div>"
            ],
            "text/plain": [
              "                      Country  Score  ...  Generosity  Trust (Corruption)\n",
              "0                      Norway  7.537  ...    0.362012            0.315964\n",
              "1                     Denmark  7.522  ...    0.355280            0.400770\n",
              "2                     Iceland  7.504  ...    0.475540            0.153527\n",
              "3                 Switzerland  7.494  ...    0.290549            0.367007\n",
              "4                     Finland  7.469  ...    0.245483            0.382612\n",
              "..                        ...    ...  ...         ...                 ...\n",
              "150                    Rwanda  3.471  ...    0.252756            0.455220\n",
              "151                     Syria  3.462  ...    0.493664            0.151347\n",
              "152                  Tanzania  3.349  ...    0.354256            0.066035\n",
              "153                   Burundi  2.905  ...    0.204435            0.084148\n",
              "154  Central African Republic  2.693  ...    0.280876            0.056565\n",
              "\n",
              "[155 rows x 8 columns]"
            ]
          },
          "metadata": {
            "tags": []
          },
          "execution_count": 18
        }
      ]
    },
    {
      "cell_type": "code",
      "metadata": {
        "colab": {
          "base_uri": "https://localhost:8080/",
          "height": 406
        },
        "id": "AbAOufJmU1KF",
        "outputId": "e4e0c0e0-ca19-4901-8826-b98eca18df3b"
      },
      "source": [
        "df_2018"
      ],
      "execution_count": null,
      "outputs": [
        {
          "output_type": "execute_result",
          "data": {
            "text/html": [
              "<div>\n",
              "<style scoped>\n",
              "    .dataframe tbody tr th:only-of-type {\n",
              "        vertical-align: middle;\n",
              "    }\n",
              "\n",
              "    .dataframe tbody tr th {\n",
              "        vertical-align: top;\n",
              "    }\n",
              "\n",
              "    .dataframe thead th {\n",
              "        text-align: right;\n",
              "    }\n",
              "</style>\n",
              "<table border=\"1\" class=\"dataframe\">\n",
              "  <thead>\n",
              "    <tr style=\"text-align: right;\">\n",
              "      <th></th>\n",
              "      <th>Country</th>\n",
              "      <th>Score</th>\n",
              "      <th>GDP</th>\n",
              "      <th>Family</th>\n",
              "      <th>Life Expectancy</th>\n",
              "      <th>Freedom</th>\n",
              "      <th>Generosity</th>\n",
              "      <th>Trust (Corruption)</th>\n",
              "    </tr>\n",
              "  </thead>\n",
              "  <tbody>\n",
              "    <tr>\n",
              "      <th>0</th>\n",
              "      <td>Finland</td>\n",
              "      <td>7.632</td>\n",
              "      <td>1.305</td>\n",
              "      <td>1.592</td>\n",
              "      <td>0.874</td>\n",
              "      <td>0.681</td>\n",
              "      <td>0.202</td>\n",
              "      <td>0.393</td>\n",
              "    </tr>\n",
              "    <tr>\n",
              "      <th>1</th>\n",
              "      <td>Norway</td>\n",
              "      <td>7.594</td>\n",
              "      <td>1.456</td>\n",
              "      <td>1.582</td>\n",
              "      <td>0.861</td>\n",
              "      <td>0.686</td>\n",
              "      <td>0.286</td>\n",
              "      <td>0.340</td>\n",
              "    </tr>\n",
              "    <tr>\n",
              "      <th>2</th>\n",
              "      <td>Denmark</td>\n",
              "      <td>7.555</td>\n",
              "      <td>1.351</td>\n",
              "      <td>1.590</td>\n",
              "      <td>0.868</td>\n",
              "      <td>0.683</td>\n",
              "      <td>0.284</td>\n",
              "      <td>0.408</td>\n",
              "    </tr>\n",
              "    <tr>\n",
              "      <th>3</th>\n",
              "      <td>Iceland</td>\n",
              "      <td>7.495</td>\n",
              "      <td>1.343</td>\n",
              "      <td>1.644</td>\n",
              "      <td>0.914</td>\n",
              "      <td>0.677</td>\n",
              "      <td>0.353</td>\n",
              "      <td>0.138</td>\n",
              "    </tr>\n",
              "    <tr>\n",
              "      <th>4</th>\n",
              "      <td>Switzerland</td>\n",
              "      <td>7.487</td>\n",
              "      <td>1.420</td>\n",
              "      <td>1.549</td>\n",
              "      <td>0.927</td>\n",
              "      <td>0.660</td>\n",
              "      <td>0.256</td>\n",
              "      <td>0.357</td>\n",
              "    </tr>\n",
              "    <tr>\n",
              "      <th>...</th>\n",
              "      <td>...</td>\n",
              "      <td>...</td>\n",
              "      <td>...</td>\n",
              "      <td>...</td>\n",
              "      <td>...</td>\n",
              "      <td>...</td>\n",
              "      <td>...</td>\n",
              "      <td>...</td>\n",
              "    </tr>\n",
              "    <tr>\n",
              "      <th>151</th>\n",
              "      <td>Yemen</td>\n",
              "      <td>3.355</td>\n",
              "      <td>0.442</td>\n",
              "      <td>1.073</td>\n",
              "      <td>0.343</td>\n",
              "      <td>0.244</td>\n",
              "      <td>0.083</td>\n",
              "      <td>0.064</td>\n",
              "    </tr>\n",
              "    <tr>\n",
              "      <th>152</th>\n",
              "      <td>Tanzania</td>\n",
              "      <td>3.303</td>\n",
              "      <td>0.455</td>\n",
              "      <td>0.991</td>\n",
              "      <td>0.381</td>\n",
              "      <td>0.481</td>\n",
              "      <td>0.270</td>\n",
              "      <td>0.097</td>\n",
              "    </tr>\n",
              "    <tr>\n",
              "      <th>153</th>\n",
              "      <td>South Sudan</td>\n",
              "      <td>3.254</td>\n",
              "      <td>0.337</td>\n",
              "      <td>0.608</td>\n",
              "      <td>0.177</td>\n",
              "      <td>0.112</td>\n",
              "      <td>0.224</td>\n",
              "      <td>0.106</td>\n",
              "    </tr>\n",
              "    <tr>\n",
              "      <th>154</th>\n",
              "      <td>Central African Republic</td>\n",
              "      <td>3.083</td>\n",
              "      <td>0.024</td>\n",
              "      <td>0.000</td>\n",
              "      <td>0.010</td>\n",
              "      <td>0.305</td>\n",
              "      <td>0.218</td>\n",
              "      <td>0.038</td>\n",
              "    </tr>\n",
              "    <tr>\n",
              "      <th>155</th>\n",
              "      <td>Burundi</td>\n",
              "      <td>2.905</td>\n",
              "      <td>0.091</td>\n",
              "      <td>0.627</td>\n",
              "      <td>0.145</td>\n",
              "      <td>0.065</td>\n",
              "      <td>0.149</td>\n",
              "      <td>0.076</td>\n",
              "    </tr>\n",
              "  </tbody>\n",
              "</table>\n",
              "<p>156 rows × 8 columns</p>\n",
              "</div>"
            ],
            "text/plain": [
              "                      Country  Score  ...  Generosity  Trust (Corruption)\n",
              "0                     Finland  7.632  ...       0.202               0.393\n",
              "1                      Norway  7.594  ...       0.286               0.340\n",
              "2                     Denmark  7.555  ...       0.284               0.408\n",
              "3                     Iceland  7.495  ...       0.353               0.138\n",
              "4                 Switzerland  7.487  ...       0.256               0.357\n",
              "..                        ...    ...  ...         ...                 ...\n",
              "151                     Yemen  3.355  ...       0.083               0.064\n",
              "152                  Tanzania  3.303  ...       0.270               0.097\n",
              "153               South Sudan  3.254  ...       0.224               0.106\n",
              "154  Central African Republic  3.083  ...       0.218               0.038\n",
              "155                   Burundi  2.905  ...       0.149               0.076\n",
              "\n",
              "[156 rows x 8 columns]"
            ]
          },
          "metadata": {
            "tags": []
          },
          "execution_count": 19
        }
      ]
    },
    {
      "cell_type": "code",
      "metadata": {
        "colab": {
          "base_uri": "https://localhost:8080/",
          "height": 406
        },
        "id": "dqRH9zrcU46s",
        "outputId": "b6dc08c6-3b79-413d-82a2-e91d6cc9640a"
      },
      "source": [
        "df_2019"
      ],
      "execution_count": null,
      "outputs": [
        {
          "output_type": "execute_result",
          "data": {
            "text/html": [
              "<div>\n",
              "<style scoped>\n",
              "    .dataframe tbody tr th:only-of-type {\n",
              "        vertical-align: middle;\n",
              "    }\n",
              "\n",
              "    .dataframe tbody tr th {\n",
              "        vertical-align: top;\n",
              "    }\n",
              "\n",
              "    .dataframe thead th {\n",
              "        text-align: right;\n",
              "    }\n",
              "</style>\n",
              "<table border=\"1\" class=\"dataframe\">\n",
              "  <thead>\n",
              "    <tr style=\"text-align: right;\">\n",
              "      <th></th>\n",
              "      <th>Country</th>\n",
              "      <th>Score</th>\n",
              "      <th>GDP</th>\n",
              "      <th>Family</th>\n",
              "      <th>Life Expectancy</th>\n",
              "      <th>Freedom</th>\n",
              "      <th>Generosity</th>\n",
              "      <th>Trust (Corruption)</th>\n",
              "    </tr>\n",
              "  </thead>\n",
              "  <tbody>\n",
              "    <tr>\n",
              "      <th>0</th>\n",
              "      <td>Finland</td>\n",
              "      <td>7.769</td>\n",
              "      <td>1.340</td>\n",
              "      <td>1.587</td>\n",
              "      <td>0.986</td>\n",
              "      <td>0.596</td>\n",
              "      <td>0.153</td>\n",
              "      <td>0.393</td>\n",
              "    </tr>\n",
              "    <tr>\n",
              "      <th>1</th>\n",
              "      <td>Denmark</td>\n",
              "      <td>7.600</td>\n",
              "      <td>1.383</td>\n",
              "      <td>1.573</td>\n",
              "      <td>0.996</td>\n",
              "      <td>0.592</td>\n",
              "      <td>0.252</td>\n",
              "      <td>0.410</td>\n",
              "    </tr>\n",
              "    <tr>\n",
              "      <th>2</th>\n",
              "      <td>Norway</td>\n",
              "      <td>7.554</td>\n",
              "      <td>1.488</td>\n",
              "      <td>1.582</td>\n",
              "      <td>1.028</td>\n",
              "      <td>0.603</td>\n",
              "      <td>0.271</td>\n",
              "      <td>0.341</td>\n",
              "    </tr>\n",
              "    <tr>\n",
              "      <th>3</th>\n",
              "      <td>Iceland</td>\n",
              "      <td>7.494</td>\n",
              "      <td>1.380</td>\n",
              "      <td>1.624</td>\n",
              "      <td>1.026</td>\n",
              "      <td>0.591</td>\n",
              "      <td>0.354</td>\n",
              "      <td>0.118</td>\n",
              "    </tr>\n",
              "    <tr>\n",
              "      <th>4</th>\n",
              "      <td>Netherlands</td>\n",
              "      <td>7.488</td>\n",
              "      <td>1.396</td>\n",
              "      <td>1.522</td>\n",
              "      <td>0.999</td>\n",
              "      <td>0.557</td>\n",
              "      <td>0.322</td>\n",
              "      <td>0.298</td>\n",
              "    </tr>\n",
              "    <tr>\n",
              "      <th>...</th>\n",
              "      <td>...</td>\n",
              "      <td>...</td>\n",
              "      <td>...</td>\n",
              "      <td>...</td>\n",
              "      <td>...</td>\n",
              "      <td>...</td>\n",
              "      <td>...</td>\n",
              "      <td>...</td>\n",
              "    </tr>\n",
              "    <tr>\n",
              "      <th>151</th>\n",
              "      <td>Rwanda</td>\n",
              "      <td>3.334</td>\n",
              "      <td>0.359</td>\n",
              "      <td>0.711</td>\n",
              "      <td>0.614</td>\n",
              "      <td>0.555</td>\n",
              "      <td>0.217</td>\n",
              "      <td>0.411</td>\n",
              "    </tr>\n",
              "    <tr>\n",
              "      <th>152</th>\n",
              "      <td>Tanzania</td>\n",
              "      <td>3.231</td>\n",
              "      <td>0.476</td>\n",
              "      <td>0.885</td>\n",
              "      <td>0.499</td>\n",
              "      <td>0.417</td>\n",
              "      <td>0.276</td>\n",
              "      <td>0.147</td>\n",
              "    </tr>\n",
              "    <tr>\n",
              "      <th>153</th>\n",
              "      <td>Afghanistan</td>\n",
              "      <td>3.203</td>\n",
              "      <td>0.350</td>\n",
              "      <td>0.517</td>\n",
              "      <td>0.361</td>\n",
              "      <td>0.000</td>\n",
              "      <td>0.158</td>\n",
              "      <td>0.025</td>\n",
              "    </tr>\n",
              "    <tr>\n",
              "      <th>154</th>\n",
              "      <td>Central African Republic</td>\n",
              "      <td>3.083</td>\n",
              "      <td>0.026</td>\n",
              "      <td>0.000</td>\n",
              "      <td>0.105</td>\n",
              "      <td>0.225</td>\n",
              "      <td>0.235</td>\n",
              "      <td>0.035</td>\n",
              "    </tr>\n",
              "    <tr>\n",
              "      <th>155</th>\n",
              "      <td>South Sudan</td>\n",
              "      <td>2.853</td>\n",
              "      <td>0.306</td>\n",
              "      <td>0.575</td>\n",
              "      <td>0.295</td>\n",
              "      <td>0.010</td>\n",
              "      <td>0.202</td>\n",
              "      <td>0.091</td>\n",
              "    </tr>\n",
              "  </tbody>\n",
              "</table>\n",
              "<p>156 rows × 8 columns</p>\n",
              "</div>"
            ],
            "text/plain": [
              "                      Country  Score  ...  Generosity  Trust (Corruption)\n",
              "0                     Finland  7.769  ...       0.153               0.393\n",
              "1                     Denmark  7.600  ...       0.252               0.410\n",
              "2                      Norway  7.554  ...       0.271               0.341\n",
              "3                     Iceland  7.494  ...       0.354               0.118\n",
              "4                 Netherlands  7.488  ...       0.322               0.298\n",
              "..                        ...    ...  ...         ...                 ...\n",
              "151                    Rwanda  3.334  ...       0.217               0.411\n",
              "152                  Tanzania  3.231  ...       0.276               0.147\n",
              "153               Afghanistan  3.203  ...       0.158               0.025\n",
              "154  Central African Republic  3.083  ...       0.235               0.035\n",
              "155               South Sudan  2.853  ...       0.202               0.091\n",
              "\n",
              "[156 rows x 8 columns]"
            ]
          },
          "metadata": {
            "tags": []
          },
          "execution_count": 20
        }
      ]
    },
    {
      "cell_type": "code",
      "metadata": {
        "colab": {
          "base_uri": "https://localhost:8080/",
          "height": 406
        },
        "id": "UTFIzEesYia7",
        "outputId": "34da2e8a-2d15-4f22-bbb2-544cdc845847"
      },
      "source": [
        "df_2020"
      ],
      "execution_count": null,
      "outputs": [
        {
          "output_type": "execute_result",
          "data": {
            "text/html": [
              "<div>\n",
              "<style scoped>\n",
              "    .dataframe tbody tr th:only-of-type {\n",
              "        vertical-align: middle;\n",
              "    }\n",
              "\n",
              "    .dataframe tbody tr th {\n",
              "        vertical-align: top;\n",
              "    }\n",
              "\n",
              "    .dataframe thead th {\n",
              "        text-align: right;\n",
              "    }\n",
              "</style>\n",
              "<table border=\"1\" class=\"dataframe\">\n",
              "  <thead>\n",
              "    <tr style=\"text-align: right;\">\n",
              "      <th></th>\n",
              "      <th>Country</th>\n",
              "      <th>Score</th>\n",
              "      <th>GDP</th>\n",
              "      <th>Family</th>\n",
              "      <th>Life Expectancy</th>\n",
              "      <th>Freedom</th>\n",
              "      <th>Generosity</th>\n",
              "      <th>Trust (Corruption)</th>\n",
              "    </tr>\n",
              "  </thead>\n",
              "  <tbody>\n",
              "    <tr>\n",
              "      <th>0</th>\n",
              "      <td>Finland</td>\n",
              "      <td>7.8087</td>\n",
              "      <td>1.285190</td>\n",
              "      <td>1.499526</td>\n",
              "      <td>0.961271</td>\n",
              "      <td>0.662317</td>\n",
              "      <td>0.159670</td>\n",
              "      <td>0.477857</td>\n",
              "    </tr>\n",
              "    <tr>\n",
              "      <th>1</th>\n",
              "      <td>Denmark</td>\n",
              "      <td>7.6456</td>\n",
              "      <td>1.326949</td>\n",
              "      <td>1.503449</td>\n",
              "      <td>0.979333</td>\n",
              "      <td>0.665040</td>\n",
              "      <td>0.242793</td>\n",
              "      <td>0.495260</td>\n",
              "    </tr>\n",
              "    <tr>\n",
              "      <th>2</th>\n",
              "      <td>Switzerland</td>\n",
              "      <td>7.5599</td>\n",
              "      <td>1.390774</td>\n",
              "      <td>1.472403</td>\n",
              "      <td>1.040533</td>\n",
              "      <td>0.628954</td>\n",
              "      <td>0.269056</td>\n",
              "      <td>0.407946</td>\n",
              "    </tr>\n",
              "    <tr>\n",
              "      <th>3</th>\n",
              "      <td>Iceland</td>\n",
              "      <td>7.5045</td>\n",
              "      <td>1.326502</td>\n",
              "      <td>1.547567</td>\n",
              "      <td>1.000843</td>\n",
              "      <td>0.661981</td>\n",
              "      <td>0.362330</td>\n",
              "      <td>0.144541</td>\n",
              "    </tr>\n",
              "    <tr>\n",
              "      <th>4</th>\n",
              "      <td>Norway</td>\n",
              "      <td>7.4880</td>\n",
              "      <td>1.424207</td>\n",
              "      <td>1.495173</td>\n",
              "      <td>1.008072</td>\n",
              "      <td>0.670201</td>\n",
              "      <td>0.287985</td>\n",
              "      <td>0.434101</td>\n",
              "    </tr>\n",
              "    <tr>\n",
              "      <th>...</th>\n",
              "      <td>...</td>\n",
              "      <td>...</td>\n",
              "      <td>...</td>\n",
              "      <td>...</td>\n",
              "      <td>...</td>\n",
              "      <td>...</td>\n",
              "      <td>...</td>\n",
              "      <td>...</td>\n",
              "    </tr>\n",
              "    <tr>\n",
              "      <th>148</th>\n",
              "      <td>Central African Republic</td>\n",
              "      <td>3.4759</td>\n",
              "      <td>0.041072</td>\n",
              "      <td>0.000000</td>\n",
              "      <td>0.000000</td>\n",
              "      <td>0.292814</td>\n",
              "      <td>0.253513</td>\n",
              "      <td>0.028265</td>\n",
              "    </tr>\n",
              "    <tr>\n",
              "      <th>149</th>\n",
              "      <td>Rwanda</td>\n",
              "      <td>3.3123</td>\n",
              "      <td>0.343243</td>\n",
              "      <td>0.522876</td>\n",
              "      <td>0.572383</td>\n",
              "      <td>0.604088</td>\n",
              "      <td>0.235705</td>\n",
              "      <td>0.485542</td>\n",
              "    </tr>\n",
              "    <tr>\n",
              "      <th>150</th>\n",
              "      <td>Zimbabwe</td>\n",
              "      <td>3.2992</td>\n",
              "      <td>0.425564</td>\n",
              "      <td>1.047835</td>\n",
              "      <td>0.375038</td>\n",
              "      <td>0.377405</td>\n",
              "      <td>0.151349</td>\n",
              "      <td>0.080929</td>\n",
              "    </tr>\n",
              "    <tr>\n",
              "      <th>151</th>\n",
              "      <td>South Sudan</td>\n",
              "      <td>2.8166</td>\n",
              "      <td>0.289083</td>\n",
              "      <td>0.553279</td>\n",
              "      <td>0.208809</td>\n",
              "      <td>0.065609</td>\n",
              "      <td>0.209935</td>\n",
              "      <td>0.111157</td>\n",
              "    </tr>\n",
              "    <tr>\n",
              "      <th>152</th>\n",
              "      <td>Afghanistan</td>\n",
              "      <td>2.5669</td>\n",
              "      <td>0.300706</td>\n",
              "      <td>0.356434</td>\n",
              "      <td>0.266052</td>\n",
              "      <td>0.000000</td>\n",
              "      <td>0.135235</td>\n",
              "      <td>0.001226</td>\n",
              "    </tr>\n",
              "  </tbody>\n",
              "</table>\n",
              "<p>153 rows × 8 columns</p>\n",
              "</div>"
            ],
            "text/plain": [
              "                      Country   Score  ...  Generosity  Trust (Corruption)\n",
              "0                     Finland  7.8087  ...    0.159670            0.477857\n",
              "1                     Denmark  7.6456  ...    0.242793            0.495260\n",
              "2                 Switzerland  7.5599  ...    0.269056            0.407946\n",
              "3                     Iceland  7.5045  ...    0.362330            0.144541\n",
              "4                      Norway  7.4880  ...    0.287985            0.434101\n",
              "..                        ...     ...  ...         ...                 ...\n",
              "148  Central African Republic  3.4759  ...    0.253513            0.028265\n",
              "149                    Rwanda  3.3123  ...    0.235705            0.485542\n",
              "150                  Zimbabwe  3.2992  ...    0.151349            0.080929\n",
              "151               South Sudan  2.8166  ...    0.209935            0.111157\n",
              "152               Afghanistan  2.5669  ...    0.135235            0.001226\n",
              "\n",
              "[153 rows x 8 columns]"
            ]
          },
          "metadata": {
            "tags": []
          },
          "execution_count": 21
        }
      ]
    },
    {
      "cell_type": "code",
      "metadata": {
        "id": "ud-GK7bfYlTZ"
      },
      "source": [
        "# Agregaramos el indicador de columnas para cada dataset\n",
        "\n",
        "df_2016['Year'] = '2016'\n",
        "df_2017['Year'] = '2017'\n",
        "df_2018['Year'] = '2018'\n",
        "df_2019['Year'] = '2019'\n",
        "df_2020['Year'] = '2020'\n",
        "\n",
        "\n"
      ],
      "execution_count": null,
      "outputs": []
    },
    {
      "cell_type": "code",
      "metadata": {
        "colab": {
          "base_uri": "https://localhost:8080/",
          "height": 406
        },
        "id": "Oo-5Pf_6ZOb0",
        "outputId": "2139aeb4-e80c-4aff-9f43-9608b8517d97"
      },
      "source": [
        "frames = [df_2016 , df_2017 , df_2018 , df_2019 , df_2020]\n",
        "\n",
        "base_final = pd.concat(frames , ignore_index=True)\n",
        "\n",
        "base_final"
      ],
      "execution_count": null,
      "outputs": [
        {
          "output_type": "execute_result",
          "data": {
            "text/html": [
              "<div>\n",
              "<style scoped>\n",
              "    .dataframe tbody tr th:only-of-type {\n",
              "        vertical-align: middle;\n",
              "    }\n",
              "\n",
              "    .dataframe tbody tr th {\n",
              "        vertical-align: top;\n",
              "    }\n",
              "\n",
              "    .dataframe thead th {\n",
              "        text-align: right;\n",
              "    }\n",
              "</style>\n",
              "<table border=\"1\" class=\"dataframe\">\n",
              "  <thead>\n",
              "    <tr style=\"text-align: right;\">\n",
              "      <th></th>\n",
              "      <th>Country</th>\n",
              "      <th>Score</th>\n",
              "      <th>GDP</th>\n",
              "      <th>Family</th>\n",
              "      <th>Life Expectancy</th>\n",
              "      <th>Freedom</th>\n",
              "      <th>Trust (Corruption)</th>\n",
              "      <th>Generosity</th>\n",
              "      <th>Year</th>\n",
              "    </tr>\n",
              "  </thead>\n",
              "  <tbody>\n",
              "    <tr>\n",
              "      <th>0</th>\n",
              "      <td>Denmark</td>\n",
              "      <td>7.5260</td>\n",
              "      <td>1.441780</td>\n",
              "      <td>1.163740</td>\n",
              "      <td>0.795040</td>\n",
              "      <td>0.579410</td>\n",
              "      <td>0.444530</td>\n",
              "      <td>0.361710</td>\n",
              "      <td>2016</td>\n",
              "    </tr>\n",
              "    <tr>\n",
              "      <th>1</th>\n",
              "      <td>Switzerland</td>\n",
              "      <td>7.5090</td>\n",
              "      <td>1.527330</td>\n",
              "      <td>1.145240</td>\n",
              "      <td>0.863030</td>\n",
              "      <td>0.585570</td>\n",
              "      <td>0.412030</td>\n",
              "      <td>0.280830</td>\n",
              "      <td>2016</td>\n",
              "    </tr>\n",
              "    <tr>\n",
              "      <th>2</th>\n",
              "      <td>Iceland</td>\n",
              "      <td>7.5010</td>\n",
              "      <td>1.426660</td>\n",
              "      <td>1.183260</td>\n",
              "      <td>0.867330</td>\n",
              "      <td>0.566240</td>\n",
              "      <td>0.149750</td>\n",
              "      <td>0.476780</td>\n",
              "      <td>2016</td>\n",
              "    </tr>\n",
              "    <tr>\n",
              "      <th>3</th>\n",
              "      <td>Norway</td>\n",
              "      <td>7.4980</td>\n",
              "      <td>1.577440</td>\n",
              "      <td>1.126900</td>\n",
              "      <td>0.795790</td>\n",
              "      <td>0.596090</td>\n",
              "      <td>0.357760</td>\n",
              "      <td>0.378950</td>\n",
              "      <td>2016</td>\n",
              "    </tr>\n",
              "    <tr>\n",
              "      <th>4</th>\n",
              "      <td>Finland</td>\n",
              "      <td>7.4130</td>\n",
              "      <td>1.405980</td>\n",
              "      <td>1.134640</td>\n",
              "      <td>0.810910</td>\n",
              "      <td>0.571040</td>\n",
              "      <td>0.410040</td>\n",
              "      <td>0.254920</td>\n",
              "      <td>2016</td>\n",
              "    </tr>\n",
              "    <tr>\n",
              "      <th>...</th>\n",
              "      <td>...</td>\n",
              "      <td>...</td>\n",
              "      <td>...</td>\n",
              "      <td>...</td>\n",
              "      <td>...</td>\n",
              "      <td>...</td>\n",
              "      <td>...</td>\n",
              "      <td>...</td>\n",
              "      <td>...</td>\n",
              "    </tr>\n",
              "    <tr>\n",
              "      <th>772</th>\n",
              "      <td>Central African Republic</td>\n",
              "      <td>3.4759</td>\n",
              "      <td>0.041072</td>\n",
              "      <td>0.000000</td>\n",
              "      <td>0.000000</td>\n",
              "      <td>0.292814</td>\n",
              "      <td>0.028265</td>\n",
              "      <td>0.253513</td>\n",
              "      <td>2020</td>\n",
              "    </tr>\n",
              "    <tr>\n",
              "      <th>773</th>\n",
              "      <td>Rwanda</td>\n",
              "      <td>3.3123</td>\n",
              "      <td>0.343243</td>\n",
              "      <td>0.522876</td>\n",
              "      <td>0.572383</td>\n",
              "      <td>0.604088</td>\n",
              "      <td>0.485542</td>\n",
              "      <td>0.235705</td>\n",
              "      <td>2020</td>\n",
              "    </tr>\n",
              "    <tr>\n",
              "      <th>774</th>\n",
              "      <td>Zimbabwe</td>\n",
              "      <td>3.2992</td>\n",
              "      <td>0.425564</td>\n",
              "      <td>1.047835</td>\n",
              "      <td>0.375038</td>\n",
              "      <td>0.377405</td>\n",
              "      <td>0.080929</td>\n",
              "      <td>0.151349</td>\n",
              "      <td>2020</td>\n",
              "    </tr>\n",
              "    <tr>\n",
              "      <th>775</th>\n",
              "      <td>South Sudan</td>\n",
              "      <td>2.8166</td>\n",
              "      <td>0.289083</td>\n",
              "      <td>0.553279</td>\n",
              "      <td>0.208809</td>\n",
              "      <td>0.065609</td>\n",
              "      <td>0.111157</td>\n",
              "      <td>0.209935</td>\n",
              "      <td>2020</td>\n",
              "    </tr>\n",
              "    <tr>\n",
              "      <th>776</th>\n",
              "      <td>Afghanistan</td>\n",
              "      <td>2.5669</td>\n",
              "      <td>0.300706</td>\n",
              "      <td>0.356434</td>\n",
              "      <td>0.266052</td>\n",
              "      <td>0.000000</td>\n",
              "      <td>0.001226</td>\n",
              "      <td>0.135235</td>\n",
              "      <td>2020</td>\n",
              "    </tr>\n",
              "  </tbody>\n",
              "</table>\n",
              "<p>777 rows × 9 columns</p>\n",
              "</div>"
            ],
            "text/plain": [
              "                      Country   Score  ...  Generosity  Year\n",
              "0                     Denmark  7.5260  ...    0.361710  2016\n",
              "1                 Switzerland  7.5090  ...    0.280830  2016\n",
              "2                     Iceland  7.5010  ...    0.476780  2016\n",
              "3                      Norway  7.4980  ...    0.378950  2016\n",
              "4                     Finland  7.4130  ...    0.254920  2016\n",
              "..                        ...     ...  ...         ...   ...\n",
              "772  Central African Republic  3.4759  ...    0.253513  2020\n",
              "773                    Rwanda  3.3123  ...    0.235705  2020\n",
              "774                  Zimbabwe  3.2992  ...    0.151349  2020\n",
              "775               South Sudan  2.8166  ...    0.209935  2020\n",
              "776               Afghanistan  2.5669  ...    0.135235  2020\n",
              "\n",
              "[777 rows x 9 columns]"
            ]
          },
          "metadata": {
            "tags": []
          },
          "execution_count": 23
        }
      ]
    },
    {
      "cell_type": "code",
      "metadata": {
        "colab": {
          "base_uri": "https://localhost:8080/"
        },
        "id": "3M2iQHEEZPyN",
        "outputId": "4b271b08-ce68-420f-d431-70ec5c5dd09b"
      },
      "source": [
        "# Tenemos 1 valor nulo\n",
        "\n",
        "base_final.isnull().sum()"
      ],
      "execution_count": null,
      "outputs": [
        {
          "output_type": "execute_result",
          "data": {
            "text/plain": [
              "Country               0\n",
              "Score                 0\n",
              "GDP                   0\n",
              "Family                0\n",
              "Life Expectancy       0\n",
              "Freedom               0\n",
              "Trust (Corruption)    1\n",
              "Generosity            0\n",
              "Year                  0\n",
              "dtype: int64"
            ]
          },
          "metadata": {
            "tags": []
          },
          "execution_count": 24
        }
      ]
    },
    {
      "cell_type": "code",
      "metadata": {
        "colab": {
          "base_uri": "https://localhost:8080/",
          "height": 77
        },
        "id": "IHFrWjgVoBAe",
        "outputId": "6fc57621-51a9-4986-8f50-ad1aa7b45e5d"
      },
      "source": [
        "# El valor nulo se encuentra en la siguiente fila\n",
        "\n",
        "base_final[base_final.isnull().any(axis=1)]"
      ],
      "execution_count": null,
      "outputs": [
        {
          "output_type": "execute_result",
          "data": {
            "text/html": [
              "<div>\n",
              "<style scoped>\n",
              "    .dataframe tbody tr th:only-of-type {\n",
              "        vertical-align: middle;\n",
              "    }\n",
              "\n",
              "    .dataframe tbody tr th {\n",
              "        vertical-align: top;\n",
              "    }\n",
              "\n",
              "    .dataframe thead th {\n",
              "        text-align: right;\n",
              "    }\n",
              "</style>\n",
              "<table border=\"1\" class=\"dataframe\">\n",
              "  <thead>\n",
              "    <tr style=\"text-align: right;\">\n",
              "      <th></th>\n",
              "      <th>Country</th>\n",
              "      <th>Score</th>\n",
              "      <th>GDP</th>\n",
              "      <th>Family</th>\n",
              "      <th>Life Expectancy</th>\n",
              "      <th>Freedom</th>\n",
              "      <th>Trust (Corruption)</th>\n",
              "      <th>Generosity</th>\n",
              "      <th>Year</th>\n",
              "    </tr>\n",
              "  </thead>\n",
              "  <tbody>\n",
              "    <tr>\n",
              "      <th>331</th>\n",
              "      <td>United Arab Emirates</td>\n",
              "      <td>6.774</td>\n",
              "      <td>2.096</td>\n",
              "      <td>0.776</td>\n",
              "      <td>0.67</td>\n",
              "      <td>0.284</td>\n",
              "      <td>NaN</td>\n",
              "      <td>0.186</td>\n",
              "      <td>2018</td>\n",
              "    </tr>\n",
              "  </tbody>\n",
              "</table>\n",
              "</div>"
            ],
            "text/plain": [
              "                  Country  Score    GDP  ...  Trust (Corruption)  Generosity  Year\n",
              "331  United Arab Emirates  6.774  2.096  ...                 NaN       0.186  2018\n",
              "\n",
              "[1 rows x 9 columns]"
            ]
          },
          "metadata": {
            "tags": []
          },
          "execution_count": 25
        }
      ]
    },
    {
      "cell_type": "code",
      "metadata": {
        "colab": {
          "base_uri": "https://localhost:8080/",
          "height": 197
        },
        "id": "GCV9a4EEoTuZ",
        "outputId": "54e3566f-2a2f-48ba-bb25-163239518bb9"
      },
      "source": [
        "# Revisemos el promedio de corrupción \n",
        "\n",
        "base_final[base_final['Country'] == 'United Arab Emirates']"
      ],
      "execution_count": null,
      "outputs": [
        {
          "output_type": "execute_result",
          "data": {
            "text/html": [
              "<div>\n",
              "<style scoped>\n",
              "    .dataframe tbody tr th:only-of-type {\n",
              "        vertical-align: middle;\n",
              "    }\n",
              "\n",
              "    .dataframe tbody tr th {\n",
              "        vertical-align: top;\n",
              "    }\n",
              "\n",
              "    .dataframe thead th {\n",
              "        text-align: right;\n",
              "    }\n",
              "</style>\n",
              "<table border=\"1\" class=\"dataframe\">\n",
              "  <thead>\n",
              "    <tr style=\"text-align: right;\">\n",
              "      <th></th>\n",
              "      <th>Country</th>\n",
              "      <th>Score</th>\n",
              "      <th>GDP</th>\n",
              "      <th>Family</th>\n",
              "      <th>Life Expectancy</th>\n",
              "      <th>Freedom</th>\n",
              "      <th>Trust (Corruption)</th>\n",
              "      <th>Generosity</th>\n",
              "      <th>Year</th>\n",
              "    </tr>\n",
              "  </thead>\n",
              "  <tbody>\n",
              "    <tr>\n",
              "      <th>27</th>\n",
              "      <td>United Arab Emirates</td>\n",
              "      <td>6.5730</td>\n",
              "      <td>1.573520</td>\n",
              "      <td>0.871140</td>\n",
              "      <td>0.729930</td>\n",
              "      <td>0.562150</td>\n",
              "      <td>0.355610</td>\n",
              "      <td>0.265910</td>\n",
              "      <td>2016</td>\n",
              "    </tr>\n",
              "    <tr>\n",
              "      <th>177</th>\n",
              "      <td>United Arab Emirates</td>\n",
              "      <td>6.6480</td>\n",
              "      <td>1.626343</td>\n",
              "      <td>1.266410</td>\n",
              "      <td>0.726798</td>\n",
              "      <td>0.608345</td>\n",
              "      <td>0.324490</td>\n",
              "      <td>0.360942</td>\n",
              "      <td>2017</td>\n",
              "    </tr>\n",
              "    <tr>\n",
              "      <th>331</th>\n",
              "      <td>United Arab Emirates</td>\n",
              "      <td>6.7740</td>\n",
              "      <td>2.096000</td>\n",
              "      <td>0.776000</td>\n",
              "      <td>0.670000</td>\n",
              "      <td>0.284000</td>\n",
              "      <td>NaN</td>\n",
              "      <td>0.186000</td>\n",
              "      <td>2018</td>\n",
              "    </tr>\n",
              "    <tr>\n",
              "      <th>488</th>\n",
              "      <td>United Arab Emirates</td>\n",
              "      <td>6.8250</td>\n",
              "      <td>1.503000</td>\n",
              "      <td>1.310000</td>\n",
              "      <td>0.825000</td>\n",
              "      <td>0.598000</td>\n",
              "      <td>0.182000</td>\n",
              "      <td>0.262000</td>\n",
              "      <td>2019</td>\n",
              "    </tr>\n",
              "    <tr>\n",
              "      <th>644</th>\n",
              "      <td>United Arab Emirates</td>\n",
              "      <td>6.7908</td>\n",
              "      <td>1.431086</td>\n",
              "      <td>1.251171</td>\n",
              "      <td>0.787814</td>\n",
              "      <td>0.652936</td>\n",
              "      <td>0.220214</td>\n",
              "      <td>0.280656</td>\n",
              "      <td>2020</td>\n",
              "    </tr>\n",
              "  </tbody>\n",
              "</table>\n",
              "</div>"
            ],
            "text/plain": [
              "                  Country   Score  ...  Generosity  Year\n",
              "27   United Arab Emirates  6.5730  ...    0.265910  2016\n",
              "177  United Arab Emirates  6.6480  ...    0.360942  2017\n",
              "331  United Arab Emirates  6.7740  ...    0.186000  2018\n",
              "488  United Arab Emirates  6.8250  ...    0.262000  2019\n",
              "644  United Arab Emirates  6.7908  ...    0.280656  2020\n",
              "\n",
              "[5 rows x 9 columns]"
            ]
          },
          "metadata": {
            "tags": []
          },
          "execution_count": 26
        }
      ]
    },
    {
      "cell_type": "code",
      "metadata": {
        "id": "D2IS1v_Cqh13"
      },
      "source": [
        "\n",
        "\n",
        "# Falta hacer un EDA de 2 o 3 gráficos bin de GDP contra el score o con corrupcion\n",
        "# Matriz de correlación con todas las variables.\n",
        "# Standarizar\n",
        "# Modelo\n",
        "\n",
        "df_test = base_final.drop(['Country'], axis = 1)\n",
        "df_test.dropna(inplace=True)\n"
      ],
      "execution_count": null,
      "outputs": []
    },
    {
      "cell_type": "code",
      "metadata": {
        "colab": {
          "base_uri": "https://localhost:8080/",
          "height": 595
        },
        "id": "x9nesNBQZs66",
        "outputId": "0193f99e-741a-4a4d-a2f1-63036240b7f5"
      },
      "source": [
        "import seaborn as sns\n",
        "import matplotlib.pyplot as plt\n",
        "\n",
        "\n",
        "plt.figure(figsize=(12,10))\n",
        "sns.heatmap(df_test.corr(),annot=True,cmap=\"magma\",fmt='.2f')\n",
        "plt.show()"
      ],
      "execution_count": null,
      "outputs": [
        {
          "output_type": "display_data",
          "data": {
            "image/png": "[encoded data removed]",
            "text/plain": [
              "<Figure size 864x720 with 2 Axes>"
            ]
          },
          "metadata": {
            "tags": [],
            "needs_background": "light"
          }
        }
      ]
    },
    {
      "cell_type": "code",
      "metadata": {
        "colab": {
          "base_uri": "https://localhost:8080/"
        },
        "id": "HAQqtyzEYzep",
        "outputId": "71042571-f312-42bb-8d84-706ec91a5411"
      },
      "source": [
        "\n",
        "import math \n",
        "df_test['Quartile'] = np.nan\n",
        "\n",
        "df_test.loc[df_test['Score'] > df_test['Score'].quantile(.75), 'Quartile'] = 1\n",
        "df_test.loc[df_test['Score'] < df_test['Score'].quantile(.5), 'Quartile'] = 3\n",
        "df_test['Quartile'] = df_test['Quartile'].replace(np.nan, 2)\n",
        "\n",
        "# 1 es muy feliz \n",
        "# 2 es feliz\n",
        "# 3 es no-feliz\n",
        "\n",
        "df_test['Quartile']"
      ],
      "execution_count": null,
      "outputs": [
        {
          "output_type": "execute_result",
          "data": {
            "text/plain": [
              "0      1.0\n",
              "1      1.0\n",
              "2      1.0\n",
              "3      1.0\n",
              "4      1.0\n",
              "      ... \n",
              "772    3.0\n",
              "773    3.0\n",
              "774    3.0\n",
              "775    3.0\n",
              "776    3.0\n",
              "Name: Quartile, Length: 776, dtype: float64"
            ]
          },
          "metadata": {
            "tags": []
          },
          "execution_count": 29
        }
      ]
    },
    {
      "cell_type": "code",
      "metadata": {
        "id": "rYapsIU0RzVu",
        "colab": {
          "base_uri": "https://localhost:8080/",
          "height": 607
        },
        "outputId": "f59d6db2-5bd0-46e9-a64b-d6bb98feb220"
      },
      "source": [
        "# Creando los whisker plots para las 3 variables de salida para el GDP\n",
        "plt.style.use('seaborn')\n",
        "data_1 = df_test[df_test['Quartile'] == 1]['GDP']\n",
        "data_2 = df_test[df_test['Quartile'] == 2]['GDP']\n",
        "data_3 = df_test[df_test['Quartile'] == 3]['GDP']\n",
        "\n",
        "data = [data_1, data_2, data_3]\n",
        " \n",
        "fig = plt.figure(figsize =(10, 7))\n",
        " \n",
        "\n",
        "ax = fig.add_axes([0, 0, 1, 1])\n",
        " \n",
        "\n",
        "bp = ax.boxplot(data)\n",
        "plt.show()\n",
        "\n"
      ],
      "execution_count": null,
      "outputs": [
        {
          "output_type": "stream",
          "text": [
            "/usr/local/lib/python3.7/dist-packages/numpy/core/_asarray.py:83: VisibleDeprecationWarning: Creating an ndarray from ragged nested sequences (which is a list-or-tuple of lists-or-tuples-or ndarrays with different lengths or shapes) is deprecated. If you meant to do this, you must specify 'dtype=object' when creating the ndarray\n",
            "  return array(a, dtype, copy=False, order=order)\n"
          ],
          "name": "stderr"
        },
        {
          "output_type": "display_data",
          "data": {
            "image/png": "[encoded data removed]",
            "text/plain": [
              "<Figure size 720x504 with 1 Axes>"
            ]
          },
          "metadata": {
            "tags": []
          }
        }
      ]
    },
    {
      "cell_type": "code",
      "metadata": {
        "colab": {
          "base_uri": "https://localhost:8080/",
          "height": 607
        },
        "id": "g3-meEm6sTji",
        "outputId": "eb1ab9b9-64c1-4046-98b0-043408d449a0"
      },
      "source": [
        "# Creando los whisker plots para las 3 variables de salida para el Corruption\n",
        "\n",
        "plt.style.use('seaborn')\n",
        "data_1 = df_test[df_test['Quartile'] == 1]['Trust (Corruption)']\n",
        "data_2 = df_test[df_test['Quartile'] == 2]['Trust (Corruption)']\n",
        "data_3 = df_test[df_test['Quartile'] == 3]['Trust (Corruption)']\n",
        "\n",
        "data = [data_1, data_2, data_3]\n",
        " \n",
        "fig = plt.figure(figsize =(10, 7))\n",
        " \n",
        "\n",
        "ax = fig.add_axes([0, 0, 1, 1])\n",
        " \n",
        "\n",
        "bp = ax.boxplot(data)\n",
        "plt.show()\n",
        "\n"
      ],
      "execution_count": null,
      "outputs": [
        {
          "output_type": "stream",
          "text": [
            "/usr/local/lib/python3.7/dist-packages/numpy/core/_asarray.py:83: VisibleDeprecationWarning: Creating an ndarray from ragged nested sequences (which is a list-or-tuple of lists-or-tuples-or ndarrays with different lengths or shapes) is deprecated. If you meant to do this, you must specify 'dtype=object' when creating the ndarray\n",
            "  return array(a, dtype, copy=False, order=order)\n"
          ],
          "name": "stderr"
        },
        {
          "output_type": "display_data",
          "data": {
            "image/png": "[encoded data removed]",
            "text/plain": [
              "<Figure size 720x504 with 1 Axes>"
            ]
          },
          "metadata": {
            "tags": []
          }
        }
      ]
    },
    {
      "cell_type": "code",
      "metadata": {
        "colab": {
          "base_uri": "https://localhost:8080/",
          "height": 185
        },
        "id": "2_wtsAaEZQbt",
        "outputId": "aa8336fc-2c82-47b5-b97c-045a31c04444"
      },
      "source": [
        "#Importing Libraries\n",
        "from sklearn.model_selection import train_test_split\n",
        "from sklearn.preprocessing import StandardScaler\n",
        "from sklearn.ensemble import RandomForestClassifier\n",
        "from sklearn.metrics import confusion_matrix\n",
        "from sklearn.externals import joblib\n",
        "from sklearn.metrics import accuracy_score\n",
        "\n",
        "dataset = df_test\n",
        "dataset.columns = df_test.columns\n",
        "\n",
        "#print('Shape of the dataset: ' + str(dataset.shape))\n",
        "#print(dataset.head())\n",
        "#print(dataset.Quartile.unique())\n",
        "\n",
        "factor = pd.factorize(dataset['Quartile'])\n",
        "dataset.species = factor[0]\n",
        "definitions = factor[1]\n",
        "\n",
        "#Splitting the data into independent and dependent variables\n",
        "X = dataset[['GDP', 'Family' ,'Life Expectancy', 'Freedom' , 'Trust (Corruption)' , 'Generosity']]\n",
        "y = dataset['Quartile']\n",
        "\n",
        "#X_train, X_test, y_train, y_test = train_test_split(X, y, test_size = 0.25, random_state = 42)\n",
        "X_train = dataset[dataset['Year'] != '2020' ].drop(['Score','Year','Quartile'], axis = 1)\n",
        "X_test = dataset[dataset['Year'] == '2020' ].drop(['Score','Year','Quartile'], axis = 1)\n",
        "y_train = dataset[dataset['Year'] != '2020' ]['Quartile']\n",
        "y_test = dataset[dataset['Year'] == '2020' ]['Quartile']\n",
        "\n",
        "# Feature Scaling\n",
        "scaler = StandardScaler()\n",
        "X_train = scaler.fit_transform(X_train)\n",
        "X_test = scaler.transform(X_test)\n",
        "\n",
        "classifier = RandomForestClassifier(n_estimators = 10, criterion = 'entropy', random_state = 42)\n",
        "classifier.fit(X_train, y_train)\n",
        "\n",
        "# Predicting the Test set results\n",
        "y_pred = classifier.predict(X_test)\n",
        "#Reverse factorize (converting y_pred from 0s,1s and 2s to Iris-setosa, Iris-versicolor and Iris-virginica\n",
        "reversefactor = { 1 : 1.0, 2: 2.0, 3: 3.0}\n",
        "\n",
        "y_test = np.vectorize(reversefactor.get)(y_test)\n",
        "y_pred = np.vectorize(reversefactor.get)(y_pred)\n",
        "\n",
        "# Making the Confusion Matrix\n",
        "print(accuracy_score(y_test, y_pred))\n",
        "pd.crosstab(y_test, y_pred, rownames=['Grupos Reales'], colnames=['Grupos predichos'])\n"
      ],
      "execution_count": null,
      "outputs": [
        {
          "output_type": "stream",
          "text": [
            "0.7843137254901961\n"
          ],
          "name": "stdout"
        },
        {
          "output_type": "execute_result",
          "data": {
            "text/html": [
              "<div>\n",
              "<style scoped>\n",
              "    .dataframe tbody tr th:only-of-type {\n",
              "        vertical-align: middle;\n",
              "    }\n",
              "\n",
              "    .dataframe tbody tr th {\n",
              "        vertical-align: top;\n",
              "    }\n",
              "\n",
              "    .dataframe thead th {\n",
              "        text-align: right;\n",
              "    }\n",
              "</style>\n",
              "<table border=\"1\" class=\"dataframe\">\n",
              "  <thead>\n",
              "    <tr style=\"text-align: right;\">\n",
              "      <th>Grupos predichos</th>\n",
              "      <th>1.0</th>\n",
              "      <th>2.0</th>\n",
              "      <th>3.0</th>\n",
              "    </tr>\n",
              "    <tr>\n",
              "      <th>Grupos Reales</th>\n",
              "      <th></th>\n",
              "      <th></th>\n",
              "      <th></th>\n",
              "    </tr>\n",
              "  </thead>\n",
              "  <tbody>\n",
              "    <tr>\n",
              "      <th>1.0</th>\n",
              "      <td>29</td>\n",
              "      <td>10</td>\n",
              "      <td>2</td>\n",
              "    </tr>\n",
              "    <tr>\n",
              "      <th>2.0</th>\n",
              "      <td>7</td>\n",
              "      <td>24</td>\n",
              "      <td>10</td>\n",
              "    </tr>\n",
              "    <tr>\n",
              "      <th>3.0</th>\n",
              "      <td>0</td>\n",
              "      <td>4</td>\n",
              "      <td>67</td>\n",
              "    </tr>\n",
              "  </tbody>\n",
              "</table>\n",
              "</div>"
            ],
            "text/plain": [
              "Grupos predichos  1.0  2.0  3.0\n",
              "Grupos Reales                  \n",
              "1.0                29   10    2\n",
              "2.0                 7   24   10\n",
              "3.0                 0    4   67"
            ]
          },
          "metadata": {
            "tags": []
          },
          "execution_count": 66
        }
      ]
    },
    {
      "cell_type": "code",
      "metadata": {
        "colab": {
          "base_uri": "https://localhost:8080/",
          "height": 346
        },
        "id": "gHdb9NsHfv8O",
        "outputId": "fecfcf30-c6d8-4bc5-fed1-4fe1bc066ed8"
      },
      "source": [
        "plt.barh(X.columns, classifier.feature_importances_)\n",
        "for index, value in enumerate(classifier.feature_importances_):\n",
        "    plt.text(value, index, \" \" + str(int(value*100)) + \"%\" , fontweight='bold')\n"
      ],
      "execution_count": null,
      "outputs": [
        {
          "output_type": "display_data",
          "data": {
            "image/png": "[encoded data removed]",
            "text/plain": [
              "<Figure size 576x396 with 1 Axes>"
            ]
          },
          "metadata": {
            "tags": []
          }
        }
      ]
    },
    {
      "cell_type": "markdown",
      "metadata": {
        "id": "sTy2AjMLzWN-"
      },
      "source": [
        "## Hyperparameter tuning "
      ]
    },
    {
      "cell_type": "code",
      "metadata": {
        "colab": {
          "base_uri": "https://localhost:8080/"
        },
        "id": "YJQ-LPU94y4P",
        "outputId": "17f674a7-93d1-49cc-8919-6555276dc00e"
      },
      "source": [
        "from sklearn.model_selection import RandomizedSearchCV\n",
        "\n",
        "n_estimators = [int(x) for x in range(200,2000,200)]\n",
        "max_features = ['auto', 'sqrt']\n",
        "max_depth = [int(x) for x in np.linspace(10, 110, num = 11)]\n",
        "max_depth.append(None)\n",
        "min_samples_split = [2, 5, 10]\n",
        "min_samples_leaf = [1, 2, 4]\n",
        "bootstrap = [True, False]\n",
        "random_grid = {'n_estimators': n_estimators,\n",
        "               'max_features': max_features,\n",
        "               'max_depth': max_depth,\n",
        "               'min_samples_split': min_samples_split,\n",
        "               'min_samples_leaf': min_samples_leaf,\n",
        "               'bootstrap': bootstrap}\n",
        "print(random_grid)\n",
        "\n"
      ],
      "execution_count": null,
      "outputs": [
        {
          "output_type": "stream",
          "text": [
            "{'n_estimators': [200, 400, 600, 800, 1000, 1200, 1400, 1600, 1800], 'max_features': ['auto', 'sqrt'], 'max_depth': [10, 20, 30, 40, 50, 60, 70, 80, 90, 100, 110, None], 'min_samples_split': [2, 5, 10], 'min_samples_leaf': [1, 2, 4], 'bootstrap': [True, False]}\n"
          ],
          "name": "stdout"
        }
      ]
    },
    {
      "cell_type": "code",
      "metadata": {
        "id": "4xF99gxB46t4"
      },
      "source": [
        "# Entrenando la grilla \n",
        "\n",
        "\n",
        "rf = RandomForestClassifier()\n",
        "rf_random = RandomizedSearchCV(estimator = rf, param_distributions = random_grid, n_iter = 100, cv = 3, verbose=2, random_state=42, n_jobs = -1)\n",
        "\n",
        "rf_random.fit(X_train, y_train)"
      ],
      "execution_count": null,
      "outputs": []
    },
    {
      "cell_type": "code",
      "metadata": {
        "id": "OeE4caE65C4_"
      },
      "source": [
        "rf_random.best_params_\n"
      ],
      "execution_count": null,
      "outputs": []
    },
    {
      "cell_type": "code",
      "metadata": {
        "colab": {
          "base_uri": "https://localhost:8080/",
          "height": 406
        },
        "id": "KBdrxoNZ6zrg",
        "outputId": "26f7402c-13b9-4865-e4d5-9ec3ca3ab12c"
      },
      "source": [
        "dataset[dataset['Year'] != 2020 ].drop('Year', axis = 1)"
      ],
      "execution_count": null,
      "outputs": [
        {
          "output_type": "execute_result",
          "data": {
            "text/html": [
              "<div>\n",
              "<style scoped>\n",
              "    .dataframe tbody tr th:only-of-type {\n",
              "        vertical-align: middle;\n",
              "    }\n",
              "\n",
              "    .dataframe tbody tr th {\n",
              "        vertical-align: top;\n",
              "    }\n",
              "\n",
              "    .dataframe thead th {\n",
              "        text-align: right;\n",
              "    }\n",
              "</style>\n",
              "<table border=\"1\" class=\"dataframe\">\n",
              "  <thead>\n",
              "    <tr style=\"text-align: right;\">\n",
              "      <th></th>\n",
              "      <th>Score</th>\n",
              "      <th>GDP</th>\n",
              "      <th>Family</th>\n",
              "      <th>Life Expectancy</th>\n",
              "      <th>Freedom</th>\n",
              "      <th>Trust (Corruption)</th>\n",
              "      <th>Generosity</th>\n",
              "      <th>Year</th>\n",
              "      <th>Quartile</th>\n",
              "    </tr>\n",
              "  </thead>\n",
              "  <tbody>\n",
              "    <tr>\n",
              "      <th>0</th>\n",
              "      <td>7.526</td>\n",
              "      <td>1.44178</td>\n",
              "      <td>1.16374</td>\n",
              "      <td>0.79504</td>\n",
              "      <td>0.57941</td>\n",
              "      <td>0.44453</td>\n",
              "      <td>0.36171</td>\n",
              "      <td>2016</td>\n",
              "      <td>1.0</td>\n",
              "    </tr>\n",
              "    <tr>\n",
              "      <th>1</th>\n",
              "      <td>7.509</td>\n",
              "      <td>1.52733</td>\n",
              "      <td>1.14524</td>\n",
              "      <td>0.86303</td>\n",
              "      <td>0.58557</td>\n",
              "      <td>0.41203</td>\n",
              "      <td>0.28083</td>\n",
              "      <td>2016</td>\n",
              "      <td>1.0</td>\n",
              "    </tr>\n",
              "    <tr>\n",
              "      <th>2</th>\n",
              "      <td>7.501</td>\n",
              "      <td>1.42666</td>\n",
              "      <td>1.18326</td>\n",
              "      <td>0.86733</td>\n",
              "      <td>0.56624</td>\n",
              "      <td>0.14975</td>\n",
              "      <td>0.47678</td>\n",
              "      <td>2016</td>\n",
              "      <td>1.0</td>\n",
              "    </tr>\n",
              "    <tr>\n",
              "      <th>3</th>\n",
              "      <td>7.498</td>\n",
              "      <td>1.57744</td>\n",
              "      <td>1.12690</td>\n",
              "      <td>0.79579</td>\n",
              "      <td>0.59609</td>\n",
              "      <td>0.35776</td>\n",
              "      <td>0.37895</td>\n",
              "      <td>2016</td>\n",
              "      <td>1.0</td>\n",
              "    </tr>\n",
              "    <tr>\n",
              "      <th>4</th>\n",
              "      <td>7.413</td>\n",
              "      <td>1.40598</td>\n",
              "      <td>1.13464</td>\n",
              "      <td>0.81091</td>\n",
              "      <td>0.57104</td>\n",
              "      <td>0.41004</td>\n",
              "      <td>0.25492</td>\n",
              "      <td>2016</td>\n",
              "      <td>1.0</td>\n",
              "    </tr>\n",
              "    <tr>\n",
              "      <th>...</th>\n",
              "      <td>...</td>\n",
              "      <td>...</td>\n",
              "      <td>...</td>\n",
              "      <td>...</td>\n",
              "      <td>...</td>\n",
              "      <td>...</td>\n",
              "      <td>...</td>\n",
              "      <td>...</td>\n",
              "      <td>...</td>\n",
              "    </tr>\n",
              "    <tr>\n",
              "      <th>619</th>\n",
              "      <td>3.334</td>\n",
              "      <td>0.35900</td>\n",
              "      <td>0.71100</td>\n",
              "      <td>0.61400</td>\n",
              "      <td>0.55500</td>\n",
              "      <td>0.41100</td>\n",
              "      <td>0.21700</td>\n",
              "      <td>2019</td>\n",
              "      <td>3.0</td>\n",
              "    </tr>\n",
              "    <tr>\n",
              "      <th>620</th>\n",
              "      <td>3.231</td>\n",
              "      <td>0.47600</td>\n",
              "      <td>0.88500</td>\n",
              "      <td>0.49900</td>\n",
              "      <td>0.41700</td>\n",
              "      <td>0.14700</td>\n",
              "      <td>0.27600</td>\n",
              "      <td>2019</td>\n",
              "      <td>3.0</td>\n",
              "    </tr>\n",
              "    <tr>\n",
              "      <th>621</th>\n",
              "      <td>3.203</td>\n",
              "      <td>0.35000</td>\n",
              "      <td>0.51700</td>\n",
              "      <td>0.36100</td>\n",
              "      <td>0.00000</td>\n",
              "      <td>0.02500</td>\n",
              "      <td>0.15800</td>\n",
              "      <td>2019</td>\n",
              "      <td>3.0</td>\n",
              "    </tr>\n",
              "    <tr>\n",
              "      <th>622</th>\n",
              "      <td>3.083</td>\n",
              "      <td>0.02600</td>\n",
              "      <td>0.00000</td>\n",
              "      <td>0.10500</td>\n",
              "      <td>0.22500</td>\n",
              "      <td>0.03500</td>\n",
              "      <td>0.23500</td>\n",
              "      <td>2019</td>\n",
              "      <td>3.0</td>\n",
              "    </tr>\n",
              "    <tr>\n",
              "      <th>623</th>\n",
              "      <td>2.853</td>\n",
              "      <td>0.30600</td>\n",
              "      <td>0.57500</td>\n",
              "      <td>0.29500</td>\n",
              "      <td>0.01000</td>\n",
              "      <td>0.09100</td>\n",
              "      <td>0.20200</td>\n",
              "      <td>2019</td>\n",
              "      <td>3.0</td>\n",
              "    </tr>\n",
              "  </tbody>\n",
              "</table>\n",
              "<p>623 rows × 9 columns</p>\n",
              "</div>"
            ],
            "text/plain": [
              "     Score      GDP   Family  ...  Generosity  Year  Quartile\n",
              "0    7.526  1.44178  1.16374  ...     0.36171  2016       1.0\n",
              "1    7.509  1.52733  1.14524  ...     0.28083  2016       1.0\n",
              "2    7.501  1.42666  1.18326  ...     0.47678  2016       1.0\n",
              "3    7.498  1.57744  1.12690  ...     0.37895  2016       1.0\n",
              "4    7.413  1.40598  1.13464  ...     0.25492  2016       1.0\n",
              "..     ...      ...      ...  ...         ...   ...       ...\n",
              "619  3.334  0.35900  0.71100  ...     0.21700  2019       3.0\n",
              "620  3.231  0.47600  0.88500  ...     0.27600  2019       3.0\n",
              "621  3.203  0.35000  0.51700  ...     0.15800  2019       3.0\n",
              "622  3.083  0.02600  0.00000  ...     0.23500  2019       3.0\n",
              "623  2.853  0.30600  0.57500  ...     0.20200  2019       3.0\n",
              "\n",
              "[623 rows x 9 columns]"
            ]
          },
          "metadata": {
            "tags": []
          },
          "execution_count": 43
        }
      ]
    },
    {
      "cell_type": "code",
      "metadata": {
        "colab": {
          "base_uri": "https://localhost:8080/"
        },
        "id": "zMCs4yYK9m84",
        "outputId": "9872d0e5-dbbc-421c-8b28-0770b2315fd9"
      },
      "source": [
        "len(y_test)"
      ],
      "execution_count": null,
      "outputs": [
        {
          "output_type": "execute_result",
          "data": {
            "text/plain": [
              "153"
            ]
          },
          "metadata": {
            "tags": []
          },
          "execution_count": 53
        }
      ]
    },
    {
      "cell_type": "code",
      "metadata": {
        "colab": {
          "base_uri": "https://localhost:8080/"
        },
        "id": "gqaEwdUC-1xK",
        "outputId": "61e5ae74-f7e1-4da2-8216-85489e28008b"
      },
      "source": [
        "X.columns"
      ],
      "execution_count": null,
      "outputs": [
        {
          "output_type": "execute_result",
          "data": {
            "text/plain": [
              "Index(['GDP', 'Family', 'Life Expectancy', 'Freedom', 'Trust (Corruption)',\n",
              "       'Generosity'],\n",
              "      dtype='object')"
            ]
          },
          "metadata": {
            "tags": []
          },
          "execution_count": 64
        }
      ]
    },
    {
      "cell_type": "code",
      "metadata": {
        "colab": {
          "base_uri": "https://localhost:8080/"
        },
        "id": "vVQMzmtl_eUe",
        "outputId": "368b3a91-748a-4ddf-a907-61589df66cef"
      },
      "source": [
        "classifier.feature_importances_"
      ],
      "execution_count": null,
      "outputs": [
        {
          "output_type": "execute_result",
          "data": {
            "text/plain": [
              "array([0.3344324 , 0.08865325, 0.04610893, 0.02004528, 0.05739971,\n",
              "       0.03439136, 0.01328714, 0.40568192])"
            ]
          },
          "metadata": {
            "tags": []
          },
          "execution_count": 65
        }
      ]
    },
    {
      "cell_type": "code",
      "metadata": {
        "id": "qAxjlQ7f_jXN"
      },
      "source": [
        ""
      ],
      "execution_count": null,
      "outputs": []
    }
  ]
}